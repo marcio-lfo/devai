{
  "nbformat": 4,
  "nbformat_minor": 0,
  "metadata": {
    "colab": {
      "provenance": [],
      "gpuType": "T4",
      "include_colab_link": true
    },
    "kernelspec": {
      "name": "python3",
      "display_name": "Python 3"
    },
    "language_info": {
      "name": "python"
    },
    "accelerator": "GPU"
  },
  "cells": [
    {
      "cell_type": "markdown",
      "metadata": {
        "id": "view-in-github",
        "colab_type": "text"
      },
      "source": [
        "<a href=\"https://colab.research.google.com/github/marcio-lfo/devai/blob/main/Grupo_3_Projeto_2_Base_LE_NER.ipynb\" target=\"_parent\"><img src=\"https://colab.research.google.com/assets/colab-badge.svg\" alt=\"Open In Colab\"/></a>"
      ]
    },
    {
      "cell_type": "markdown",
      "source": [
        "# **Reconhecimento de Entidades Nomeadas**\n",
        "\n",
        "Grupo 3\n",
        "\n",
        "# **Projeto 2**\n",
        "\n",
        "**Objetivo**: Estender os códigos desenvolvidos em sala\n",
        "para incorporar a base de dados ulysses-ner-br.\n",
        "\n",
        "Base de dados: **LE-NER**"
      ],
      "metadata": {
        "id": "0_tDmcaQ4mX7"
      }
    },
    {
      "cell_type": "code",
      "execution_count": 1,
      "metadata": {
        "id": "nKhTfZUM7i21",
        "colab": {
          "base_uri": "https://localhost:8080/"
        },
        "outputId": "7d7653bb-d9ce-42b1-8d3d-e537ff06999f"
      },
      "outputs": [
        {
          "output_type": "stream",
          "name": "stdout",
          "text": [
            "Requirement already satisfied: pip in /usr/local/lib/python3.10/dist-packages (23.1.2)\n",
            "Collecting pip\n",
            "  Downloading pip-23.3.1-py3-none-any.whl (2.1 MB)\n",
            "\u001b[2K     \u001b[90m━━━━━━━━━━━━━━━━━━━━━━━━━━━━━━━━━━━━━━━━\u001b[0m \u001b[32m2.1/2.1 MB\u001b[0m \u001b[31m9.5 MB/s\u001b[0m eta \u001b[36m0:00:00\u001b[0m\n",
            "\u001b[?25hInstalling collected packages: pip\n",
            "  Attempting uninstall: pip\n",
            "    Found existing installation: pip 23.1.2\n",
            "    Uninstalling pip-23.1.2:\n",
            "      Successfully uninstalled pip-23.1.2\n",
            "Successfully installed pip-23.3.1\n",
            "Collecting seqeval\n",
            "  Downloading seqeval-1.2.2.tar.gz (43 kB)\n",
            "\u001b[2K     \u001b[90m━━━━━━━━━━━━━━━━━━━━━━━━━━━━━━━━━━━━━━━━\u001b[0m \u001b[32m43.6/43.6 kB\u001b[0m \u001b[31m650.7 kB/s\u001b[0m eta \u001b[36m0:00:00\u001b[0m\n",
            "\u001b[?25h  Preparing metadata (setup.py) ... \u001b[?25l\u001b[?25hdone\n",
            "Requirement already satisfied: numpy>=1.14.0 in /usr/local/lib/python3.10/dist-packages (from seqeval) (1.23.5)\n",
            "Requirement already satisfied: scikit-learn>=0.21.3 in /usr/local/lib/python3.10/dist-packages (from seqeval) (1.2.2)\n",
            "Requirement already satisfied: scipy>=1.3.2 in /usr/local/lib/python3.10/dist-packages (from scikit-learn>=0.21.3->seqeval) (1.11.4)\n",
            "Requirement already satisfied: joblib>=1.1.1 in /usr/local/lib/python3.10/dist-packages (from scikit-learn>=0.21.3->seqeval) (1.3.2)\n",
            "Requirement already satisfied: threadpoolctl>=2.0.0 in /usr/local/lib/python3.10/dist-packages (from scikit-learn>=0.21.3->seqeval) (3.2.0)\n",
            "Building wheels for collected packages: seqeval\n",
            "  Building wheel for seqeval (setup.py) ... \u001b[?25l\u001b[?25hdone\n",
            "  Created wheel for seqeval: filename=seqeval-1.2.2-py3-none-any.whl size=16162 sha256=a79d1882247eac92810fc6ee999f27259a6d681b16157883d7a046c6e977a2e9\n",
            "  Stored in directory: /root/.cache/pip/wheels/1a/67/4a/ad4082dd7dfc30f2abfe4d80a2ed5926a506eb8a972b4767fa\n",
            "Successfully built seqeval\n",
            "Installing collected packages: seqeval\n",
            "Successfully installed seqeval-1.2.2\n",
            "\u001b[33mWARNING: Running pip as the 'root' user can result in broken permissions and conflicting behaviour with the system package manager. It is recommended to use a virtual environment instead: https://pip.pypa.io/warnings/venv\u001b[0m\u001b[33m\n",
            "\u001b[0mCollecting sklearn_crfsuite\n",
            "  Downloading sklearn_crfsuite-0.3.6-py2.py3-none-any.whl (12 kB)\n",
            "Collecting python-crfsuite>=0.8.3 (from sklearn_crfsuite)\n",
            "  Downloading python_crfsuite-0.9.9-cp310-cp310-manylinux_2_17_x86_64.manylinux2014_x86_64.whl (993 kB)\n",
            "\u001b[2K     \u001b[90m━━━━━━━━━━━━━━━━━━━━━━━━━━━━━━━━━━━━━━━━\u001b[0m \u001b[32m993.5/993.5 kB\u001b[0m \u001b[31m5.1 MB/s\u001b[0m eta \u001b[36m0:00:00\u001b[0m\n",
            "\u001b[?25hRequirement already satisfied: six in /usr/local/lib/python3.10/dist-packages (from sklearn_crfsuite) (1.16.0)\n",
            "Requirement already satisfied: tabulate in /usr/local/lib/python3.10/dist-packages (from sklearn_crfsuite) (0.9.0)\n",
            "Requirement already satisfied: tqdm>=2.0 in /usr/local/lib/python3.10/dist-packages (from sklearn_crfsuite) (4.66.1)\n",
            "Installing collected packages: python-crfsuite, sklearn_crfsuite\n",
            "Successfully installed python-crfsuite-0.9.9 sklearn_crfsuite-0.3.6\n",
            "\u001b[33mWARNING: Running pip as the 'root' user can result in broken permissions and conflicting behaviour with the system package manager. It is recommended to use a virtual environment instead: https://pip.pypa.io/warnings/venv\u001b[0m\u001b[33m\n",
            "\u001b[0mCollecting scikit-learn==1.3.2\n",
            "  Downloading scikit_learn-1.3.2-cp310-cp310-manylinux_2_17_x86_64.manylinux2014_x86_64.whl.metadata (11 kB)\n",
            "Requirement already satisfied: numpy<2.0,>=1.17.3 in /usr/local/lib/python3.10/dist-packages (from scikit-learn==1.3.2) (1.23.5)\n",
            "Requirement already satisfied: scipy>=1.5.0 in /usr/local/lib/python3.10/dist-packages (from scikit-learn==1.3.2) (1.11.4)\n",
            "Requirement already satisfied: joblib>=1.1.1 in /usr/local/lib/python3.10/dist-packages (from scikit-learn==1.3.2) (1.3.2)\n",
            "Requirement already satisfied: threadpoolctl>=2.0.0 in /usr/local/lib/python3.10/dist-packages (from scikit-learn==1.3.2) (3.2.0)\n",
            "Downloading scikit_learn-1.3.2-cp310-cp310-manylinux_2_17_x86_64.manylinux2014_x86_64.whl (10.8 MB)\n",
            "\u001b[2K   \u001b[90m━━━━━━━━━━━━━━━━━━━━━━━━━━━━━━━━━━━━━━━━\u001b[0m \u001b[32m10.8/10.8 MB\u001b[0m \u001b[31m49.6 MB/s\u001b[0m eta \u001b[36m0:00:00\u001b[0m\n",
            "\u001b[?25hInstalling collected packages: scikit-learn\n",
            "  Attempting uninstall: scikit-learn\n",
            "    Found existing installation: scikit-learn 1.2.2\n",
            "    Uninstalling scikit-learn-1.2.2:\n",
            "      Successfully uninstalled scikit-learn-1.2.2\n",
            "Successfully installed scikit-learn-1.3.2\n",
            "\u001b[33mWARNING: Running pip as the 'root' user can result in broken permissions and conflicting behaviour with the system package manager. It is recommended to use a virtual environment instead: https://pip.pypa.io/warnings/venv\u001b[0m\u001b[33m\n",
            "\u001b[0m2023-12-11 17:07:48.000821: E tensorflow/compiler/xla/stream_executor/cuda/cuda_dnn.cc:9342] Unable to register cuDNN factory: Attempting to register factory for plugin cuDNN when one has already been registered\n",
            "2023-12-11 17:07:48.000880: E tensorflow/compiler/xla/stream_executor/cuda/cuda_fft.cc:609] Unable to register cuFFT factory: Attempting to register factory for plugin cuFFT when one has already been registered\n",
            "2023-12-11 17:07:48.000919: E tensorflow/compiler/xla/stream_executor/cuda/cuda_blas.cc:1518] Unable to register cuBLAS factory: Attempting to register factory for plugin cuBLAS when one has already been registered\n",
            "2023-12-11 17:07:48.050299: I tensorflow/core/platform/cpu_feature_guard.cc:182] This TensorFlow binary is optimized to use available CPU instructions in performance-critical operations.\n",
            "To enable the following instructions: AVX2 FMA, in other operations, rebuild TensorFlow with the appropriate compiler flags.\n",
            "2023-12-11 17:07:49.958120: W tensorflow/compiler/tf2tensorrt/utils/py_utils.cc:38] TF-TRT Warning: Could not find TensorRT\n",
            "2023-12-11 17:07:51.545407: I tensorflow/compiler/xla/stream_executor/cuda/cuda_gpu_executor.cc:894] successful NUMA node read from SysFS had negative value (-1), but there must be at least one NUMA node, so returning NUMA node zero. See more at https://github.com/torvalds/linux/blob/v6.0/Documentation/ABI/testing/sysfs-bus-pci#L344-L355\n",
            "2023-12-11 17:07:51.545864: I tensorflow/compiler/xla/stream_executor/cuda/cuda_gpu_executor.cc:894] successful NUMA node read from SysFS had negative value (-1), but there must be at least one NUMA node, so returning NUMA node zero. See more at https://github.com/torvalds/linux/blob/v6.0/Documentation/ABI/testing/sysfs-bus-pci#L344-L355\n",
            "2023-12-11 17:07:51.546049: I tensorflow/compiler/xla/stream_executor/cuda/cuda_gpu_executor.cc:894] successful NUMA node read from SysFS had negative value (-1), but there must be at least one NUMA node, so returning NUMA node zero. See more at https://github.com/torvalds/linux/blob/v6.0/Documentation/ABI/testing/sysfs-bus-pci#L344-L355\n",
            "Collecting pt-core-news-sm==3.6.0\n",
            "  Downloading https://github.com/explosion/spacy-models/releases/download/pt_core_news_sm-3.6.0/pt_core_news_sm-3.6.0-py3-none-any.whl (13.0 MB)\n",
            "\u001b[2K     \u001b[90m━━━━━━━━━━━━━━━━━━━━━━━━━━━━━━━━━━━━━━━━\u001b[0m \u001b[32m13.0/13.0 MB\u001b[0m \u001b[31m116.4 MB/s\u001b[0m eta \u001b[36m0:00:00\u001b[0m\n",
            "\u001b[?25hRequirement already satisfied: spacy<3.7.0,>=3.6.0 in /usr/local/lib/python3.10/dist-packages (from pt-core-news-sm==3.6.0) (3.6.1)\n",
            "Requirement already satisfied: spacy-legacy<3.1.0,>=3.0.11 in /usr/local/lib/python3.10/dist-packages (from spacy<3.7.0,>=3.6.0->pt-core-news-sm==3.6.0) (3.0.12)\n",
            "Requirement already satisfied: spacy-loggers<2.0.0,>=1.0.0 in /usr/local/lib/python3.10/dist-packages (from spacy<3.7.0,>=3.6.0->pt-core-news-sm==3.6.0) (1.0.5)\n",
            "Requirement already satisfied: murmurhash<1.1.0,>=0.28.0 in /usr/local/lib/python3.10/dist-packages (from spacy<3.7.0,>=3.6.0->pt-core-news-sm==3.6.0) (1.0.10)\n",
            "Requirement already satisfied: cymem<2.1.0,>=2.0.2 in /usr/local/lib/python3.10/dist-packages (from spacy<3.7.0,>=3.6.0->pt-core-news-sm==3.6.0) (2.0.8)\n",
            "Requirement already satisfied: preshed<3.1.0,>=3.0.2 in /usr/local/lib/python3.10/dist-packages (from spacy<3.7.0,>=3.6.0->pt-core-news-sm==3.6.0) (3.0.9)\n",
            "Requirement already satisfied: thinc<8.2.0,>=8.1.8 in /usr/local/lib/python3.10/dist-packages (from spacy<3.7.0,>=3.6.0->pt-core-news-sm==3.6.0) (8.1.12)\n",
            "Requirement already satisfied: wasabi<1.2.0,>=0.9.1 in /usr/local/lib/python3.10/dist-packages (from spacy<3.7.0,>=3.6.0->pt-core-news-sm==3.6.0) (1.1.2)\n",
            "Requirement already satisfied: srsly<3.0.0,>=2.4.3 in /usr/local/lib/python3.10/dist-packages (from spacy<3.7.0,>=3.6.0->pt-core-news-sm==3.6.0) (2.4.8)\n",
            "Requirement already satisfied: catalogue<2.1.0,>=2.0.6 in /usr/local/lib/python3.10/dist-packages (from spacy<3.7.0,>=3.6.0->pt-core-news-sm==3.6.0) (2.0.10)\n",
            "Requirement already satisfied: typer<0.10.0,>=0.3.0 in /usr/local/lib/python3.10/dist-packages (from spacy<3.7.0,>=3.6.0->pt-core-news-sm==3.6.0) (0.9.0)\n",
            "Requirement already satisfied: pathy>=0.10.0 in /usr/local/lib/python3.10/dist-packages (from spacy<3.7.0,>=3.6.0->pt-core-news-sm==3.6.0) (0.10.3)\n",
            "Requirement already satisfied: smart-open<7.0.0,>=5.2.1 in /usr/local/lib/python3.10/dist-packages (from spacy<3.7.0,>=3.6.0->pt-core-news-sm==3.6.0) (6.4.0)\n",
            "Requirement already satisfied: tqdm<5.0.0,>=4.38.0 in /usr/local/lib/python3.10/dist-packages (from spacy<3.7.0,>=3.6.0->pt-core-news-sm==3.6.0) (4.66.1)\n",
            "Requirement already satisfied: numpy>=1.15.0 in /usr/local/lib/python3.10/dist-packages (from spacy<3.7.0,>=3.6.0->pt-core-news-sm==3.6.0) (1.23.5)\n",
            "Requirement already satisfied: requests<3.0.0,>=2.13.0 in /usr/local/lib/python3.10/dist-packages (from spacy<3.7.0,>=3.6.0->pt-core-news-sm==3.6.0) (2.31.0)\n",
            "Requirement already satisfied: pydantic!=1.8,!=1.8.1,<3.0.0,>=1.7.4 in /usr/local/lib/python3.10/dist-packages (from spacy<3.7.0,>=3.6.0->pt-core-news-sm==3.6.0) (1.10.13)\n",
            "Requirement already satisfied: jinja2 in /usr/local/lib/python3.10/dist-packages (from spacy<3.7.0,>=3.6.0->pt-core-news-sm==3.6.0) (3.1.2)\n",
            "Requirement already satisfied: setuptools in /usr/local/lib/python3.10/dist-packages (from spacy<3.7.0,>=3.6.0->pt-core-news-sm==3.6.0) (67.7.2)\n",
            "Requirement already satisfied: packaging>=20.0 in /usr/local/lib/python3.10/dist-packages (from spacy<3.7.0,>=3.6.0->pt-core-news-sm==3.6.0) (23.2)\n",
            "Requirement already satisfied: langcodes<4.0.0,>=3.2.0 in /usr/local/lib/python3.10/dist-packages (from spacy<3.7.0,>=3.6.0->pt-core-news-sm==3.6.0) (3.3.0)\n",
            "Requirement already satisfied: typing-extensions>=4.2.0 in /usr/local/lib/python3.10/dist-packages (from pydantic!=1.8,!=1.8.1,<3.0.0,>=1.7.4->spacy<3.7.0,>=3.6.0->pt-core-news-sm==3.6.0) (4.5.0)\n",
            "Requirement already satisfied: charset-normalizer<4,>=2 in /usr/local/lib/python3.10/dist-packages (from requests<3.0.0,>=2.13.0->spacy<3.7.0,>=3.6.0->pt-core-news-sm==3.6.0) (3.3.2)\n",
            "Requirement already satisfied: idna<4,>=2.5 in /usr/local/lib/python3.10/dist-packages (from requests<3.0.0,>=2.13.0->spacy<3.7.0,>=3.6.0->pt-core-news-sm==3.6.0) (3.6)\n",
            "Requirement already satisfied: urllib3<3,>=1.21.1 in /usr/local/lib/python3.10/dist-packages (from requests<3.0.0,>=2.13.0->spacy<3.7.0,>=3.6.0->pt-core-news-sm==3.6.0) (2.0.7)\n",
            "Requirement already satisfied: certifi>=2017.4.17 in /usr/local/lib/python3.10/dist-packages (from requests<3.0.0,>=2.13.0->spacy<3.7.0,>=3.6.0->pt-core-news-sm==3.6.0) (2023.11.17)\n",
            "Requirement already satisfied: blis<0.8.0,>=0.7.8 in /usr/local/lib/python3.10/dist-packages (from thinc<8.2.0,>=8.1.8->spacy<3.7.0,>=3.6.0->pt-core-news-sm==3.6.0) (0.7.11)\n",
            "Requirement already satisfied: confection<1.0.0,>=0.0.1 in /usr/local/lib/python3.10/dist-packages (from thinc<8.2.0,>=8.1.8->spacy<3.7.0,>=3.6.0->pt-core-news-sm==3.6.0) (0.1.4)\n",
            "Requirement already satisfied: click<9.0.0,>=7.1.1 in /usr/local/lib/python3.10/dist-packages (from typer<0.10.0,>=0.3.0->spacy<3.7.0,>=3.6.0->pt-core-news-sm==3.6.0) (8.1.7)\n",
            "Requirement already satisfied: MarkupSafe>=2.0 in /usr/local/lib/python3.10/dist-packages (from jinja2->spacy<3.7.0,>=3.6.0->pt-core-news-sm==3.6.0) (2.1.3)\n",
            "Installing collected packages: pt-core-news-sm\n",
            "Successfully installed pt-core-news-sm-3.6.0\n",
            "\u001b[33mWARNING: Running pip as the 'root' user can result in broken permissions and conflicting behaviour with the system package manager. It is recommended to use a virtual environment instead: https://pip.pypa.io/warnings/venv\u001b[0m\u001b[33m\n",
            "\u001b[0m\u001b[38;5;2m✔ Download and installation successful\u001b[0m\n",
            "You can now load the package via spacy.load('pt_core_news_sm')\n"
          ]
        }
      ],
      "source": [
        "!python -m pip install --upgrade pip\n",
        "!pip install seqeval\n",
        "!pip install -U sklearn_crfsuite\n",
        "!pip install scikit-learn==1.3.2\n",
        "\n",
        "!python -m spacy download pt_core_news_sm"
      ]
    },
    {
      "cell_type": "code",
      "source": [
        "import os\n",
        "import numpy as np\n",
        "\n",
        "from sklearn_crfsuite import CRF\n",
        "from seqeval.metrics import classification_report"
      ],
      "metadata": {
        "id": "48UaJarT7rhN"
      },
      "execution_count": 2,
      "outputs": []
    },
    {
      "cell_type": "code",
      "source": [
        "!wget https://raw.githubusercontent.com/messias077/ner_pt/main/data/corpora/le_ner/train.conll\n",
        "!wget https://raw.githubusercontent.com/messias077/ner_pt/main/data/corpora/le_ner/test.conll"
      ],
      "metadata": {
        "id": "hPP-n9xN76Jz",
        "colab": {
          "base_uri": "https://localhost:8080/"
        },
        "outputId": "de1268f4-45b4-44c8-d3ef-366d72826e67"
      },
      "execution_count": 3,
      "outputs": [
        {
          "output_type": "stream",
          "name": "stdout",
          "text": [
            "--2023-12-11 17:08:24--  https://raw.githubusercontent.com/messias077/ner_pt/main/data/corpora/le_ner/train.conll\n",
            "Resolving raw.githubusercontent.com (raw.githubusercontent.com)... 185.199.108.133, 185.199.109.133, 185.199.110.133, ...\n",
            "Connecting to raw.githubusercontent.com (raw.githubusercontent.com)|185.199.108.133|:443... connected.\n",
            "HTTP request sent, awaiting response... 200 OK\n",
            "Length: 2142199 (2.0M) [text/plain]\n",
            "Saving to: ‘train.conll’\n",
            "\n",
            "train.conll         100%[===================>]   2.04M  --.-KB/s    in 0.07s   \n",
            "\n",
            "2023-12-11 17:08:25 (29.1 MB/s) - ‘train.conll’ saved [2142199/2142199]\n",
            "\n",
            "--2023-12-11 17:08:25--  https://raw.githubusercontent.com/messias077/ner_pt/main/data/corpora/le_ner/test.conll\n",
            "Resolving raw.githubusercontent.com (raw.githubusercontent.com)... 185.199.108.133, 185.199.109.133, 185.199.110.133, ...\n",
            "Connecting to raw.githubusercontent.com (raw.githubusercontent.com)|185.199.108.133|:443... connected.\n",
            "HTTP request sent, awaiting response... 200 OK\n",
            "Length: 438441 (428K) [text/plain]\n",
            "Saving to: ‘test.conll’\n",
            "\n",
            "test.conll          100%[===================>] 428.17K  --.-KB/s    in 0.04s   \n",
            "\n",
            "2023-12-11 17:08:25 (9.41 MB/s) - ‘test.conll’ saved [438441/438441]\n",
            "\n"
          ]
        }
      ]
    },
    {
      "cell_type": "code",
      "source": [
        "!wget https://raw.githubusercontent.com/ulysses-camara/ulysses-ner-br/main/annotated-corpora/PL_corpus_conll/pl_corpus_categorias/train.txt -O train_ulysses.pl.conll\n",
        "!wget https://raw.githubusercontent.com/ulysses-camara/ulysses-ner-br/main/annotated-corpora/PL_corpus_conll/pl_corpus_categorias/test.txt -O test_ulysses.pl.conll"
      ],
      "metadata": {
        "colab": {
          "base_uri": "https://localhost:8080/"
        },
        "id": "In2UTQL9tzNf",
        "outputId": "709ca0f4-c5da-4c7c-8333-e14d2f50f5a1"
      },
      "execution_count": 4,
      "outputs": [
        {
          "output_type": "stream",
          "name": "stdout",
          "text": [
            "--2023-12-11 17:08:32--  https://raw.githubusercontent.com/ulysses-camara/ulysses-ner-br/main/annotated-corpora/PL_corpus_conll/pl_corpus_categorias/train.txt\n",
            "Resolving raw.githubusercontent.com (raw.githubusercontent.com)... 185.199.108.133, 185.199.109.133, 185.199.110.133, ...\n",
            "Connecting to raw.githubusercontent.com (raw.githubusercontent.com)|185.199.108.133|:443... connected.\n",
            "HTTP request sent, awaiting response... 200 OK\n",
            "Length: 779304 (761K) [text/plain]\n",
            "Saving to: ‘train_ulysses.pl.conll’\n",
            "\n",
            "train_ulysses.pl.co 100%[===================>] 761.04K  --.-KB/s    in 0.06s   \n",
            "\n",
            "2023-12-11 17:08:32 (13.4 MB/s) - ‘train_ulysses.pl.conll’ saved [779304/779304]\n",
            "\n",
            "--2023-12-11 17:08:32--  https://raw.githubusercontent.com/ulysses-camara/ulysses-ner-br/main/annotated-corpora/PL_corpus_conll/pl_corpus_categorias/test.txt\n",
            "Resolving raw.githubusercontent.com (raw.githubusercontent.com)... 185.199.108.133, 185.199.109.133, 185.199.110.133, ...\n",
            "Connecting to raw.githubusercontent.com (raw.githubusercontent.com)|185.199.108.133|:443... connected.\n",
            "HTTP request sent, awaiting response... 200 OK\n",
            "Length: 185614 (181K) [text/plain]\n",
            "Saving to: ‘test_ulysses.pl.conll’\n",
            "\n",
            "test_ulysses.pl.con 100%[===================>] 181.26K  --.-KB/s    in 0.03s   \n",
            "\n",
            "2023-12-11 17:08:32 (5.64 MB/s) - ‘test_ulysses.pl.conll’ saved [185614/185614]\n",
            "\n"
          ]
        }
      ]
    },
    {
      "cell_type": "markdown",
      "source": [
        "## Função para leitura da base de dados no padrão BIO"
      ],
      "metadata": {
        "id": "pK8x3LXd8BJU"
      }
    },
    {
      "cell_type": "code",
      "source": [
        "def read_corpus_file(corpus_file, delimiter='\\t', ner_column=1):\n",
        "    with open(corpus_file, encoding='utf-8') as file:\n",
        "        lines = file.readlines()\n",
        "    data = []\n",
        "    words = []\n",
        "    tags = []\n",
        "    for line in lines:\n",
        "        line = line.replace('\\n', '')\n",
        "        if line != '':\n",
        "            if delimiter in line:\n",
        "                fragments = line.split(delimiter)\n",
        "                words.append(fragments[0])\n",
        "                tags.append(fragments[ner_column])\n",
        "        else:\n",
        "            if len(words) > 1:\n",
        "                data.append((words, tags))\n",
        "            words = []\n",
        "            tags = []\n",
        "    return data"
      ],
      "metadata": {
        "id": "1r7G62h77-pS"
      },
      "execution_count": 5,
      "outputs": []
    },
    {
      "cell_type": "code",
      "source": [
        "corpus_name = 'le_ner'\n",
        "#corpus_name = 'ulysses_ner' # Acrescentar a base de dados da tarefa\n",
        "\n",
        "report_dir = 'report/'\n",
        "\n",
        "train_file = None\n",
        "test_file = None\n",
        "\n",
        "delimiter = '\\t'\n",
        "\n",
        "if corpus_name == 'le_ner':\n",
        "    train_file = '/content/train.conll'\n",
        "    test_file = '/content/test.conll'\n",
        "    delimiter = ' '\n",
        "    id = 1\n",
        "elif corpus_name == 'ulysses_ner':\n",
        "    train_file = '/content/train_ulysses.pl.conll'\n",
        "    test_file = '/content/test_ulysses.pl.conll'\n",
        "    delimiter = ' '\n",
        "    id = 1\n",
        "\n",
        "print(f'\\nCorpus: {corpus_name}')\n",
        "\n",
        "report_dir = os.path.join(report_dir, corpus_name)\n",
        "\n",
        "os.makedirs(report_dir, exist_ok=True)\n",
        "\n",
        "train_data = read_corpus_file(train_file, delimiter=delimiter, ner_column=id)\n",
        "test_data = read_corpus_file(test_file, delimiter=delimiter, ner_column=id)\n",
        "\n",
        "print(f'\\nTrain data: {len(train_data)}')\n",
        "print(f'Test data: {len(test_data)}')"
      ],
      "metadata": {
        "colab": {
          "base_uri": "https://localhost:8080/"
        },
        "id": "fc4X_-AcA3uA",
        "outputId": "2d286386-0ab3-48a6-8d05-0a454b128837"
      },
      "execution_count": 6,
      "outputs": [
        {
          "output_type": "stream",
          "name": "stdout",
          "text": [
            "\n",
            "Corpus: le_ner\n",
            "\n",
            "Train data: 7821\n",
            "Test data: 1389\n"
          ]
        }
      ]
    },
    {
      "cell_type": "code",
      "source": [
        "train_data[0]"
      ],
      "metadata": {
        "colab": {
          "base_uri": "https://localhost:8080/"
        },
        "id": "FqsW2XLHWtl0",
        "outputId": "a97b3d48-942b-4860-a762-40fbf31c0fb6"
      },
      "execution_count": 7,
      "outputs": [
        {
          "output_type": "execute_result",
          "data": {
            "text/plain": [
              "(['EMENTA',\n",
              "  ':',\n",
              "  'APELAÇÃO',\n",
              "  'CÍVEL',\n",
              "  '-',\n",
              "  'AÇÃO',\n",
              "  'DE',\n",
              "  'INDENIZAÇÃO',\n",
              "  'POR',\n",
              "  'DANOS',\n",
              "  'MORAIS',\n",
              "  '-',\n",
              "  'PRELIMINAR',\n",
              "  '-',\n",
              "  'ARGUIDA',\n",
              "  'PELO',\n",
              "  'MINISTÉRIO',\n",
              "  'PÚBLICO',\n",
              "  'EM',\n",
              "  'GRAU',\n",
              "  'RECURSAL',\n",
              "  '-',\n",
              "  'NULIDADE',\n",
              "  '-',\n",
              "  'AUSÊNCIA',\n",
              "  'DE',\n",
              "  'INTERVENÇÃO',\n",
              "  'DO',\n",
              "  'PARQUET',\n",
              "  'NA',\n",
              "  'INSTÂNCIA',\n",
              "  'A',\n",
              "  'QUO',\n",
              "  '-',\n",
              "  'PRESENÇA',\n",
              "  'DE',\n",
              "  'INCAPAZ',\n",
              "  '-',\n",
              "  'PREJUÍZO',\n",
              "  'EXISTENTE',\n",
              "  '-',\n",
              "  'PRELIMINAR',\n",
              "  'ACOLHIDA',\n",
              "  '-',\n",
              "  'NULIDADE',\n",
              "  'RECONHECIDA',\n",
              "  '.'],\n",
              " ['O',\n",
              "  'O',\n",
              "  'O',\n",
              "  'O',\n",
              "  'O',\n",
              "  'O',\n",
              "  'O',\n",
              "  'O',\n",
              "  'O',\n",
              "  'O',\n",
              "  'O',\n",
              "  'O',\n",
              "  'O',\n",
              "  'O',\n",
              "  'O',\n",
              "  'O',\n",
              "  'B-ORGANIZACAO',\n",
              "  'I-ORGANIZACAO',\n",
              "  'O',\n",
              "  'O',\n",
              "  'O',\n",
              "  'O',\n",
              "  'O',\n",
              "  'O',\n",
              "  'O',\n",
              "  'O',\n",
              "  'O',\n",
              "  'O',\n",
              "  'O',\n",
              "  'O',\n",
              "  'O',\n",
              "  'O',\n",
              "  'O',\n",
              "  'O',\n",
              "  'O',\n",
              "  'O',\n",
              "  'O',\n",
              "  'O',\n",
              "  'O',\n",
              "  'O',\n",
              "  'O',\n",
              "  'O',\n",
              "  'O',\n",
              "  'O',\n",
              "  'O',\n",
              "  'O',\n",
              "  'O'])"
            ]
          },
          "metadata": {},
          "execution_count": 7
        }
      ]
    },
    {
      "cell_type": "markdown",
      "source": [
        "## Função que executa o pré-processamento do corpus usando a ferramenta Spacy"
      ],
      "metadata": {
        "id": "7ValkLyP8OXK"
      }
    },
    {
      "cell_type": "code",
      "source": [
        "import spacy\n",
        "\n",
        "def data_preprocessing(data):\n",
        "    nlp = spacy.load(name='pt_core_news_sm',\n",
        "                     disable=['parser', 'ner', 'lemmatizer', 'textcat'])\n",
        "    preprocessed_data = []\n",
        "    for d in data:\n",
        "        sentence = ' '.join(d[0])\n",
        "        doc = nlp(sentence)\n",
        "        pos_tags = [t.pos_ for t in doc]\n",
        "        preprocessed_data.append((d[0], pos_tags, d[1]))\n",
        "    return preprocessed_data"
      ],
      "metadata": {
        "id": "rAKyUmPa8K7q"
      },
      "execution_count": 8,
      "outputs": []
    },
    {
      "cell_type": "code",
      "source": [
        "train_data = data_preprocessing(train_data)\n",
        "test_data = data_preprocessing(test_data)"
      ],
      "metadata": {
        "id": "NZMHKGET8Vgp"
      },
      "execution_count": 9,
      "outputs": []
    },
    {
      "cell_type": "code",
      "source": [
        "train_data[0]"
      ],
      "metadata": {
        "colab": {
          "base_uri": "https://localhost:8080/"
        },
        "id": "58FmCBdjYVLO",
        "outputId": "abed1f5f-879d-424e-b9e8-70cefe4b1090"
      },
      "execution_count": 10,
      "outputs": [
        {
          "output_type": "execute_result",
          "data": {
            "text/plain": [
              "(['EMENTA',\n",
              "  ':',\n",
              "  'APELAÇÃO',\n",
              "  'CÍVEL',\n",
              "  '-',\n",
              "  'AÇÃO',\n",
              "  'DE',\n",
              "  'INDENIZAÇÃO',\n",
              "  'POR',\n",
              "  'DANOS',\n",
              "  'MORAIS',\n",
              "  '-',\n",
              "  'PRELIMINAR',\n",
              "  '-',\n",
              "  'ARGUIDA',\n",
              "  'PELO',\n",
              "  'MINISTÉRIO',\n",
              "  'PÚBLICO',\n",
              "  'EM',\n",
              "  'GRAU',\n",
              "  'RECURSAL',\n",
              "  '-',\n",
              "  'NULIDADE',\n",
              "  '-',\n",
              "  'AUSÊNCIA',\n",
              "  'DE',\n",
              "  'INTERVENÇÃO',\n",
              "  'DO',\n",
              "  'PARQUET',\n",
              "  'NA',\n",
              "  'INSTÂNCIA',\n",
              "  'A',\n",
              "  'QUO',\n",
              "  '-',\n",
              "  'PRESENÇA',\n",
              "  'DE',\n",
              "  'INCAPAZ',\n",
              "  '-',\n",
              "  'PREJUÍZO',\n",
              "  'EXISTENTE',\n",
              "  '-',\n",
              "  'PRELIMINAR',\n",
              "  'ACOLHIDA',\n",
              "  '-',\n",
              "  'NULIDADE',\n",
              "  'RECONHECIDA',\n",
              "  '.'],\n",
              " ['PROPN',\n",
              "  'PUNCT',\n",
              "  'PROPN',\n",
              "  'PROPN',\n",
              "  'PUNCT',\n",
              "  'PROPN',\n",
              "  'ADP',\n",
              "  'PROPN',\n",
              "  'ADP',\n",
              "  'PROPN',\n",
              "  'PROPN',\n",
              "  'PUNCT',\n",
              "  'PROPN',\n",
              "  'PUNCT',\n",
              "  'VERB',\n",
              "  'ADP',\n",
              "  'PROPN',\n",
              "  'PROPN',\n",
              "  'ADP',\n",
              "  'PROPN',\n",
              "  'PROPN',\n",
              "  'PUNCT',\n",
              "  'PROPN',\n",
              "  'PUNCT',\n",
              "  'X',\n",
              "  'ADP',\n",
              "  'PROPN',\n",
              "  'ADP',\n",
              "  'PROPN',\n",
              "  'ADP',\n",
              "  'NOUN',\n",
              "  'DET',\n",
              "  'PROPN',\n",
              "  'PUNCT',\n",
              "  'PROPN',\n",
              "  'ADP',\n",
              "  'PROPN',\n",
              "  'PUNCT',\n",
              "  'PROPN',\n",
              "  'PROPN',\n",
              "  'PUNCT',\n",
              "  'PROPN',\n",
              "  'PROPN',\n",
              "  'PUNCT',\n",
              "  'PROPN',\n",
              "  'NOUN',\n",
              "  'PUNCT'],\n",
              " ['O',\n",
              "  'O',\n",
              "  'O',\n",
              "  'O',\n",
              "  'O',\n",
              "  'O',\n",
              "  'O',\n",
              "  'O',\n",
              "  'O',\n",
              "  'O',\n",
              "  'O',\n",
              "  'O',\n",
              "  'O',\n",
              "  'O',\n",
              "  'O',\n",
              "  'O',\n",
              "  'B-ORGANIZACAO',\n",
              "  'I-ORGANIZACAO',\n",
              "  'O',\n",
              "  'O',\n",
              "  'O',\n",
              "  'O',\n",
              "  'O',\n",
              "  'O',\n",
              "  'O',\n",
              "  'O',\n",
              "  'O',\n",
              "  'O',\n",
              "  'O',\n",
              "  'O',\n",
              "  'O',\n",
              "  'O',\n",
              "  'O',\n",
              "  'O',\n",
              "  'O',\n",
              "  'O',\n",
              "  'O',\n",
              "  'O',\n",
              "  'O',\n",
              "  'O',\n",
              "  'O',\n",
              "  'O',\n",
              "  'O',\n",
              "  'O',\n",
              "  'O',\n",
              "  'O',\n",
              "  'O'])"
            ]
          },
          "metadata": {},
          "execution_count": 10
        }
      ]
    },
    {
      "cell_type": "markdown",
      "source": [
        "## Funções usadas para extrair as features dos tokens e de seus vizinhos."
      ],
      "metadata": {
        "id": "5hcAEkI08Yo0"
      }
    },
    {
      "cell_type": "code",
      "source": [
        "def extract_sent_features(sentence):\n",
        "    return [extract_features(sentence, i) for i in range(len(sentence))]\n",
        "\n",
        "\n",
        "def extract_labels(sentence):\n",
        "    return [label for _, _, label in sentence]\n",
        "\n",
        "\n",
        "def extract_features(sentence, i):\n",
        "    word = sentence[i][0]\n",
        "    postag = sentence[i][1]\n",
        "    features = {\n",
        "        'bias': 1.0,\n",
        "        'word.lower()': word.lower(),\n",
        "        'word[-3:]': word[-3:],\n",
        "        'word[-2:]': word[-2:],\n",
        "        'word.isupper()': word.isupper(),\n",
        "        'word.istitle()': word.istitle(),\n",
        "        'word.isdigit()': word.isdigit(),\n",
        "        'postag': postag,\n",
        "        'postag[:2]': postag[:2],\n",
        "        'word.islower()': word.islower(),\n",
        "        'word[0].isupper()': word[0].isupper(),\n",
        "        'word[0].islower()': word[0].islower(),\n",
        "        'not word[0].isalnum()': not word[0].isalnum(),\n",
        "        'not word.isalnum()': not word.isalnum(),\n",
        "        'word.isalpha()': word.isalpha(),\n",
        "        'size': len(word)\n",
        "    }\n",
        "    if i > 0:\n",
        "        word1 = sentence[i - 1][0]\n",
        "        postag1 = sentence[i - 1][1]\n",
        "        features.update({\n",
        "            '-1:word.lower()': word1.lower(),\n",
        "            '-1:word.istitle()': word1.istitle(),\n",
        "            '-1:word.isupper()': word1.isupper(),\n",
        "            '-1:postag': postag1,\n",
        "            '-1:postag[:2]': postag1[:2],\n",
        "            '-1:word.islower()': word1.islower()\n",
        "        })\n",
        "    else:\n",
        "        features['BOS'] = True #Begin of Sentence\n",
        "    if i > 1:\n",
        "        word1 = sentence[i - 2][0]\n",
        "        postag1 = sentence[i - 2][1]\n",
        "        features.update({\n",
        "            '-2:word.lower()': word1.lower(),\n",
        "            '-2:word.istitle()': word1.istitle(),\n",
        "            '-2:word.isupper()': word1.isupper(),\n",
        "            '-2:postag': postag1,\n",
        "            '-2:postag[:2]': postag1[:2],\n",
        "            '-2:word.islower()': word1.islower()\n",
        "        })\n",
        "    if i < len(sentence) - 1:\n",
        "        word1 = sentence[i + 1][0]\n",
        "        postag1 = sentence[i + 1][1]\n",
        "        features.update({\n",
        "            '+1:word.lower()': word1.lower(),\n",
        "            '+1:word.istitle()': word1.istitle(),\n",
        "            '+1:word.isupper()': word1.isupper(),\n",
        "            '+1:postag': postag1,\n",
        "            '+1:postag[:2]': postag1[:2],\n",
        "            '+1:word.islower()': word1.islower()\n",
        "        })\n",
        "    else:\n",
        "        features['EOS'] = True\n",
        "    if i < len(sentence) - 2:\n",
        "        word1 = sentence[i + 2][0]\n",
        "        postag1 = sentence[i + 2][1]\n",
        "        features.update({\n",
        "            '+2:word.lower()': word1.lower(),\n",
        "            '+2:word.istitle()': word1.istitle(),\n",
        "            '+2:word.isupper()': word1.isupper(),\n",
        "            '+2:postag': postag1,\n",
        "            '+2:postag[:2]': postag1[:2],\n",
        "            '+2:word.islower()': word1.islower()\n",
        "        })\n",
        "    return features\n",
        "\n",
        "\n",
        "def convert_data(data):\n",
        "    sentences = []\n",
        "    for d in data:\n",
        "        sentences.append(list(zip(d[0], d[1], d[2])))\n",
        "    x_data = [extract_sent_features(s) for s in sentences]\n",
        "    y_data = [extract_labels(s) for s in sentences]\n",
        "    return x_data, y_data"
      ],
      "metadata": {
        "id": "vRvHiHzO8gj7"
      },
      "execution_count": 11,
      "outputs": []
    },
    {
      "cell_type": "code",
      "source": [
        "## Convertendo os dados pré-processados para o formato necessário para o CRF\n",
        "X_train, y_train = convert_data(train_data)\n",
        "X_test, y_test = convert_data(test_data)"
      ],
      "metadata": {
        "id": "iGcxsxO78kYj"
      },
      "execution_count": 12,
      "outputs": []
    },
    {
      "cell_type": "code",
      "source": [
        "print(f'\\nExample Feature: {X_train[0]}')\n",
        "\n",
        "print(f'\\nLabel: {y_train[0]}')"
      ],
      "metadata": {
        "id": "cKwDtpC48nmS",
        "colab": {
          "base_uri": "https://localhost:8080/"
        },
        "outputId": "8d1ad71d-fdcb-4c19-cd4a-7a9fbca2f21a"
      },
      "execution_count": 13,
      "outputs": [
        {
          "output_type": "stream",
          "name": "stdout",
          "text": [
            "\n",
            "Example Feature: [{'bias': 1.0, 'word.lower()': 'ementa', 'word[-3:]': 'NTA', 'word[-2:]': 'TA', 'word.isupper()': True, 'word.istitle()': False, 'word.isdigit()': False, 'postag': 'PROPN', 'postag[:2]': 'PR', 'word.islower()': False, 'word[0].isupper()': True, 'word[0].islower()': False, 'not word[0].isalnum()': False, 'not word.isalnum()': False, 'word.isalpha()': True, 'size': 6, 'BOS': True, '+1:word.lower()': ':', '+1:word.istitle()': False, '+1:word.isupper()': False, '+1:postag': 'PUNCT', '+1:postag[:2]': 'PU', '+1:word.islower()': False, '+2:word.lower()': 'apelação', '+2:word.istitle()': False, '+2:word.isupper()': True, '+2:postag': 'PROPN', '+2:postag[:2]': 'PR', '+2:word.islower()': False}, {'bias': 1.0, 'word.lower()': ':', 'word[-3:]': ':', 'word[-2:]': ':', 'word.isupper()': False, 'word.istitle()': False, 'word.isdigit()': False, 'postag': 'PUNCT', 'postag[:2]': 'PU', 'word.islower()': False, 'word[0].isupper()': False, 'word[0].islower()': False, 'not word[0].isalnum()': True, 'not word.isalnum()': True, 'word.isalpha()': False, 'size': 1, '-1:word.lower()': 'ementa', '-1:word.istitle()': False, '-1:word.isupper()': True, '-1:postag': 'PROPN', '-1:postag[:2]': 'PR', '-1:word.islower()': False, '+1:word.lower()': 'apelação', '+1:word.istitle()': False, '+1:word.isupper()': True, '+1:postag': 'PROPN', '+1:postag[:2]': 'PR', '+1:word.islower()': False, '+2:word.lower()': 'cível', '+2:word.istitle()': False, '+2:word.isupper()': True, '+2:postag': 'PROPN', '+2:postag[:2]': 'PR', '+2:word.islower()': False}, {'bias': 1.0, 'word.lower()': 'apelação', 'word[-3:]': 'ÇÃO', 'word[-2:]': 'ÃO', 'word.isupper()': True, 'word.istitle()': False, 'word.isdigit()': False, 'postag': 'PROPN', 'postag[:2]': 'PR', 'word.islower()': False, 'word[0].isupper()': True, 'word[0].islower()': False, 'not word[0].isalnum()': False, 'not word.isalnum()': False, 'word.isalpha()': True, 'size': 8, '-1:word.lower()': ':', '-1:word.istitle()': False, '-1:word.isupper()': False, '-1:postag': 'PUNCT', '-1:postag[:2]': 'PU', '-1:word.islower()': False, '-2:word.lower()': 'ementa', '-2:word.istitle()': False, '-2:word.isupper()': True, '-2:postag': 'PROPN', '-2:postag[:2]': 'PR', '-2:word.islower()': False, '+1:word.lower()': 'cível', '+1:word.istitle()': False, '+1:word.isupper()': True, '+1:postag': 'PROPN', '+1:postag[:2]': 'PR', '+1:word.islower()': False, '+2:word.lower()': '-', '+2:word.istitle()': False, '+2:word.isupper()': False, '+2:postag': 'PUNCT', '+2:postag[:2]': 'PU', '+2:word.islower()': False}, {'bias': 1.0, 'word.lower()': 'cível', 'word[-3:]': 'VEL', 'word[-2:]': 'EL', 'word.isupper()': True, 'word.istitle()': False, 'word.isdigit()': False, 'postag': 'PROPN', 'postag[:2]': 'PR', 'word.islower()': False, 'word[0].isupper()': True, 'word[0].islower()': False, 'not word[0].isalnum()': False, 'not word.isalnum()': False, 'word.isalpha()': True, 'size': 5, '-1:word.lower()': 'apelação', '-1:word.istitle()': False, '-1:word.isupper()': True, '-1:postag': 'PROPN', '-1:postag[:2]': 'PR', '-1:word.islower()': False, '-2:word.lower()': ':', '-2:word.istitle()': False, '-2:word.isupper()': False, '-2:postag': 'PUNCT', '-2:postag[:2]': 'PU', '-2:word.islower()': False, '+1:word.lower()': '-', '+1:word.istitle()': False, '+1:word.isupper()': False, '+1:postag': 'PUNCT', '+1:postag[:2]': 'PU', '+1:word.islower()': False, '+2:word.lower()': 'ação', '+2:word.istitle()': False, '+2:word.isupper()': True, '+2:postag': 'PROPN', '+2:postag[:2]': 'PR', '+2:word.islower()': False}, {'bias': 1.0, 'word.lower()': '-', 'word[-3:]': '-', 'word[-2:]': '-', 'word.isupper()': False, 'word.istitle()': False, 'word.isdigit()': False, 'postag': 'PUNCT', 'postag[:2]': 'PU', 'word.islower()': False, 'word[0].isupper()': False, 'word[0].islower()': False, 'not word[0].isalnum()': True, 'not word.isalnum()': True, 'word.isalpha()': False, 'size': 1, '-1:word.lower()': 'cível', '-1:word.istitle()': False, '-1:word.isupper()': True, '-1:postag': 'PROPN', '-1:postag[:2]': 'PR', '-1:word.islower()': False, '-2:word.lower()': 'apelação', '-2:word.istitle()': False, '-2:word.isupper()': True, '-2:postag': 'PROPN', '-2:postag[:2]': 'PR', '-2:word.islower()': False, '+1:word.lower()': 'ação', '+1:word.istitle()': False, '+1:word.isupper()': True, '+1:postag': 'PROPN', '+1:postag[:2]': 'PR', '+1:word.islower()': False, '+2:word.lower()': 'de', '+2:word.istitle()': False, '+2:word.isupper()': True, '+2:postag': 'ADP', '+2:postag[:2]': 'AD', '+2:word.islower()': False}, {'bias': 1.0, 'word.lower()': 'ação', 'word[-3:]': 'ÇÃO', 'word[-2:]': 'ÃO', 'word.isupper()': True, 'word.istitle()': False, 'word.isdigit()': False, 'postag': 'PROPN', 'postag[:2]': 'PR', 'word.islower()': False, 'word[0].isupper()': True, 'word[0].islower()': False, 'not word[0].isalnum()': False, 'not word.isalnum()': False, 'word.isalpha()': True, 'size': 4, '-1:word.lower()': '-', '-1:word.istitle()': False, '-1:word.isupper()': False, '-1:postag': 'PUNCT', '-1:postag[:2]': 'PU', '-1:word.islower()': False, '-2:word.lower()': 'cível', '-2:word.istitle()': False, '-2:word.isupper()': True, '-2:postag': 'PROPN', '-2:postag[:2]': 'PR', '-2:word.islower()': False, '+1:word.lower()': 'de', '+1:word.istitle()': False, '+1:word.isupper()': True, '+1:postag': 'ADP', '+1:postag[:2]': 'AD', '+1:word.islower()': False, '+2:word.lower()': 'indenização', '+2:word.istitle()': False, '+2:word.isupper()': True, '+2:postag': 'PROPN', '+2:postag[:2]': 'PR', '+2:word.islower()': False}, {'bias': 1.0, 'word.lower()': 'de', 'word[-3:]': 'DE', 'word[-2:]': 'DE', 'word.isupper()': True, 'word.istitle()': False, 'word.isdigit()': False, 'postag': 'ADP', 'postag[:2]': 'AD', 'word.islower()': False, 'word[0].isupper()': True, 'word[0].islower()': False, 'not word[0].isalnum()': False, 'not word.isalnum()': False, 'word.isalpha()': True, 'size': 2, '-1:word.lower()': 'ação', '-1:word.istitle()': False, '-1:word.isupper()': True, '-1:postag': 'PROPN', '-1:postag[:2]': 'PR', '-1:word.islower()': False, '-2:word.lower()': '-', '-2:word.istitle()': False, '-2:word.isupper()': False, '-2:postag': 'PUNCT', '-2:postag[:2]': 'PU', '-2:word.islower()': False, '+1:word.lower()': 'indenização', '+1:word.istitle()': False, '+1:word.isupper()': True, '+1:postag': 'PROPN', '+1:postag[:2]': 'PR', '+1:word.islower()': False, '+2:word.lower()': 'por', '+2:word.istitle()': False, '+2:word.isupper()': True, '+2:postag': 'ADP', '+2:postag[:2]': 'AD', '+2:word.islower()': False}, {'bias': 1.0, 'word.lower()': 'indenização', 'word[-3:]': 'ÇÃO', 'word[-2:]': 'ÃO', 'word.isupper()': True, 'word.istitle()': False, 'word.isdigit()': False, 'postag': 'PROPN', 'postag[:2]': 'PR', 'word.islower()': False, 'word[0].isupper()': True, 'word[0].islower()': False, 'not word[0].isalnum()': False, 'not word.isalnum()': False, 'word.isalpha()': True, 'size': 11, '-1:word.lower()': 'de', '-1:word.istitle()': False, '-1:word.isupper()': True, '-1:postag': 'ADP', '-1:postag[:2]': 'AD', '-1:word.islower()': False, '-2:word.lower()': 'ação', '-2:word.istitle()': False, '-2:word.isupper()': True, '-2:postag': 'PROPN', '-2:postag[:2]': 'PR', '-2:word.islower()': False, '+1:word.lower()': 'por', '+1:word.istitle()': False, '+1:word.isupper()': True, '+1:postag': 'ADP', '+1:postag[:2]': 'AD', '+1:word.islower()': False, '+2:word.lower()': 'danos', '+2:word.istitle()': False, '+2:word.isupper()': True, '+2:postag': 'PROPN', '+2:postag[:2]': 'PR', '+2:word.islower()': False}, {'bias': 1.0, 'word.lower()': 'por', 'word[-3:]': 'POR', 'word[-2:]': 'OR', 'word.isupper()': True, 'word.istitle()': False, 'word.isdigit()': False, 'postag': 'ADP', 'postag[:2]': 'AD', 'word.islower()': False, 'word[0].isupper()': True, 'word[0].islower()': False, 'not word[0].isalnum()': False, 'not word.isalnum()': False, 'word.isalpha()': True, 'size': 3, '-1:word.lower()': 'indenização', '-1:word.istitle()': False, '-1:word.isupper()': True, '-1:postag': 'PROPN', '-1:postag[:2]': 'PR', '-1:word.islower()': False, '-2:word.lower()': 'de', '-2:word.istitle()': False, '-2:word.isupper()': True, '-2:postag': 'ADP', '-2:postag[:2]': 'AD', '-2:word.islower()': False, '+1:word.lower()': 'danos', '+1:word.istitle()': False, '+1:word.isupper()': True, '+1:postag': 'PROPN', '+1:postag[:2]': 'PR', '+1:word.islower()': False, '+2:word.lower()': 'morais', '+2:word.istitle()': False, '+2:word.isupper()': True, '+2:postag': 'PROPN', '+2:postag[:2]': 'PR', '+2:word.islower()': False}, {'bias': 1.0, 'word.lower()': 'danos', 'word[-3:]': 'NOS', 'word[-2:]': 'OS', 'word.isupper()': True, 'word.istitle()': False, 'word.isdigit()': False, 'postag': 'PROPN', 'postag[:2]': 'PR', 'word.islower()': False, 'word[0].isupper()': True, 'word[0].islower()': False, 'not word[0].isalnum()': False, 'not word.isalnum()': False, 'word.isalpha()': True, 'size': 5, '-1:word.lower()': 'por', '-1:word.istitle()': False, '-1:word.isupper()': True, '-1:postag': 'ADP', '-1:postag[:2]': 'AD', '-1:word.islower()': False, '-2:word.lower()': 'indenização', '-2:word.istitle()': False, '-2:word.isupper()': True, '-2:postag': 'PROPN', '-2:postag[:2]': 'PR', '-2:word.islower()': False, '+1:word.lower()': 'morais', '+1:word.istitle()': False, '+1:word.isupper()': True, '+1:postag': 'PROPN', '+1:postag[:2]': 'PR', '+1:word.islower()': False, '+2:word.lower()': '-', '+2:word.istitle()': False, '+2:word.isupper()': False, '+2:postag': 'PUNCT', '+2:postag[:2]': 'PU', '+2:word.islower()': False}, {'bias': 1.0, 'word.lower()': 'morais', 'word[-3:]': 'AIS', 'word[-2:]': 'IS', 'word.isupper()': True, 'word.istitle()': False, 'word.isdigit()': False, 'postag': 'PROPN', 'postag[:2]': 'PR', 'word.islower()': False, 'word[0].isupper()': True, 'word[0].islower()': False, 'not word[0].isalnum()': False, 'not word.isalnum()': False, 'word.isalpha()': True, 'size': 6, '-1:word.lower()': 'danos', '-1:word.istitle()': False, '-1:word.isupper()': True, '-1:postag': 'PROPN', '-1:postag[:2]': 'PR', '-1:word.islower()': False, '-2:word.lower()': 'por', '-2:word.istitle()': False, '-2:word.isupper()': True, '-2:postag': 'ADP', '-2:postag[:2]': 'AD', '-2:word.islower()': False, '+1:word.lower()': '-', '+1:word.istitle()': False, '+1:word.isupper()': False, '+1:postag': 'PUNCT', '+1:postag[:2]': 'PU', '+1:word.islower()': False, '+2:word.lower()': 'preliminar', '+2:word.istitle()': False, '+2:word.isupper()': True, '+2:postag': 'PROPN', '+2:postag[:2]': 'PR', '+2:word.islower()': False}, {'bias': 1.0, 'word.lower()': '-', 'word[-3:]': '-', 'word[-2:]': '-', 'word.isupper()': False, 'word.istitle()': False, 'word.isdigit()': False, 'postag': 'PUNCT', 'postag[:2]': 'PU', 'word.islower()': False, 'word[0].isupper()': False, 'word[0].islower()': False, 'not word[0].isalnum()': True, 'not word.isalnum()': True, 'word.isalpha()': False, 'size': 1, '-1:word.lower()': 'morais', '-1:word.istitle()': False, '-1:word.isupper()': True, '-1:postag': 'PROPN', '-1:postag[:2]': 'PR', '-1:word.islower()': False, '-2:word.lower()': 'danos', '-2:word.istitle()': False, '-2:word.isupper()': True, '-2:postag': 'PROPN', '-2:postag[:2]': 'PR', '-2:word.islower()': False, '+1:word.lower()': 'preliminar', '+1:word.istitle()': False, '+1:word.isupper()': True, '+1:postag': 'PROPN', '+1:postag[:2]': 'PR', '+1:word.islower()': False, '+2:word.lower()': '-', '+2:word.istitle()': False, '+2:word.isupper()': False, '+2:postag': 'PUNCT', '+2:postag[:2]': 'PU', '+2:word.islower()': False}, {'bias': 1.0, 'word.lower()': 'preliminar', 'word[-3:]': 'NAR', 'word[-2:]': 'AR', 'word.isupper()': True, 'word.istitle()': False, 'word.isdigit()': False, 'postag': 'PROPN', 'postag[:2]': 'PR', 'word.islower()': False, 'word[0].isupper()': True, 'word[0].islower()': False, 'not word[0].isalnum()': False, 'not word.isalnum()': False, 'word.isalpha()': True, 'size': 10, '-1:word.lower()': '-', '-1:word.istitle()': False, '-1:word.isupper()': False, '-1:postag': 'PUNCT', '-1:postag[:2]': 'PU', '-1:word.islower()': False, '-2:word.lower()': 'morais', '-2:word.istitle()': False, '-2:word.isupper()': True, '-2:postag': 'PROPN', '-2:postag[:2]': 'PR', '-2:word.islower()': False, '+1:word.lower()': '-', '+1:word.istitle()': False, '+1:word.isupper()': False, '+1:postag': 'PUNCT', '+1:postag[:2]': 'PU', '+1:word.islower()': False, '+2:word.lower()': 'arguida', '+2:word.istitle()': False, '+2:word.isupper()': True, '+2:postag': 'VERB', '+2:postag[:2]': 'VE', '+2:word.islower()': False}, {'bias': 1.0, 'word.lower()': '-', 'word[-3:]': '-', 'word[-2:]': '-', 'word.isupper()': False, 'word.istitle()': False, 'word.isdigit()': False, 'postag': 'PUNCT', 'postag[:2]': 'PU', 'word.islower()': False, 'word[0].isupper()': False, 'word[0].islower()': False, 'not word[0].isalnum()': True, 'not word.isalnum()': True, 'word.isalpha()': False, 'size': 1, '-1:word.lower()': 'preliminar', '-1:word.istitle()': False, '-1:word.isupper()': True, '-1:postag': 'PROPN', '-1:postag[:2]': 'PR', '-1:word.islower()': False, '-2:word.lower()': '-', '-2:word.istitle()': False, '-2:word.isupper()': False, '-2:postag': 'PUNCT', '-2:postag[:2]': 'PU', '-2:word.islower()': False, '+1:word.lower()': 'arguida', '+1:word.istitle()': False, '+1:word.isupper()': True, '+1:postag': 'VERB', '+1:postag[:2]': 'VE', '+1:word.islower()': False, '+2:word.lower()': 'pelo', '+2:word.istitle()': False, '+2:word.isupper()': True, '+2:postag': 'ADP', '+2:postag[:2]': 'AD', '+2:word.islower()': False}, {'bias': 1.0, 'word.lower()': 'arguida', 'word[-3:]': 'IDA', 'word[-2:]': 'DA', 'word.isupper()': True, 'word.istitle()': False, 'word.isdigit()': False, 'postag': 'VERB', 'postag[:2]': 'VE', 'word.islower()': False, 'word[0].isupper()': True, 'word[0].islower()': False, 'not word[0].isalnum()': False, 'not word.isalnum()': False, 'word.isalpha()': True, 'size': 7, '-1:word.lower()': '-', '-1:word.istitle()': False, '-1:word.isupper()': False, '-1:postag': 'PUNCT', '-1:postag[:2]': 'PU', '-1:word.islower()': False, '-2:word.lower()': 'preliminar', '-2:word.istitle()': False, '-2:word.isupper()': True, '-2:postag': 'PROPN', '-2:postag[:2]': 'PR', '-2:word.islower()': False, '+1:word.lower()': 'pelo', '+1:word.istitle()': False, '+1:word.isupper()': True, '+1:postag': 'ADP', '+1:postag[:2]': 'AD', '+1:word.islower()': False, '+2:word.lower()': 'ministério', '+2:word.istitle()': False, '+2:word.isupper()': True, '+2:postag': 'PROPN', '+2:postag[:2]': 'PR', '+2:word.islower()': False}, {'bias': 1.0, 'word.lower()': 'pelo', 'word[-3:]': 'ELO', 'word[-2:]': 'LO', 'word.isupper()': True, 'word.istitle()': False, 'word.isdigit()': False, 'postag': 'ADP', 'postag[:2]': 'AD', 'word.islower()': False, 'word[0].isupper()': True, 'word[0].islower()': False, 'not word[0].isalnum()': False, 'not word.isalnum()': False, 'word.isalpha()': True, 'size': 4, '-1:word.lower()': 'arguida', '-1:word.istitle()': False, '-1:word.isupper()': True, '-1:postag': 'VERB', '-1:postag[:2]': 'VE', '-1:word.islower()': False, '-2:word.lower()': '-', '-2:word.istitle()': False, '-2:word.isupper()': False, '-2:postag': 'PUNCT', '-2:postag[:2]': 'PU', '-2:word.islower()': False, '+1:word.lower()': 'ministério', '+1:word.istitle()': False, '+1:word.isupper()': True, '+1:postag': 'PROPN', '+1:postag[:2]': 'PR', '+1:word.islower()': False, '+2:word.lower()': 'público', '+2:word.istitle()': False, '+2:word.isupper()': True, '+2:postag': 'PROPN', '+2:postag[:2]': 'PR', '+2:word.islower()': False}, {'bias': 1.0, 'word.lower()': 'ministério', 'word[-3:]': 'RIO', 'word[-2:]': 'IO', 'word.isupper()': True, 'word.istitle()': False, 'word.isdigit()': False, 'postag': 'PROPN', 'postag[:2]': 'PR', 'word.islower()': False, 'word[0].isupper()': True, 'word[0].islower()': False, 'not word[0].isalnum()': False, 'not word.isalnum()': False, 'word.isalpha()': True, 'size': 10, '-1:word.lower()': 'pelo', '-1:word.istitle()': False, '-1:word.isupper()': True, '-1:postag': 'ADP', '-1:postag[:2]': 'AD', '-1:word.islower()': False, '-2:word.lower()': 'arguida', '-2:word.istitle()': False, '-2:word.isupper()': True, '-2:postag': 'VERB', '-2:postag[:2]': 'VE', '-2:word.islower()': False, '+1:word.lower()': 'público', '+1:word.istitle()': False, '+1:word.isupper()': True, '+1:postag': 'PROPN', '+1:postag[:2]': 'PR', '+1:word.islower()': False, '+2:word.lower()': 'em', '+2:word.istitle()': False, '+2:word.isupper()': True, '+2:postag': 'ADP', '+2:postag[:2]': 'AD', '+2:word.islower()': False}, {'bias': 1.0, 'word.lower()': 'público', 'word[-3:]': 'ICO', 'word[-2:]': 'CO', 'word.isupper()': True, 'word.istitle()': False, 'word.isdigit()': False, 'postag': 'PROPN', 'postag[:2]': 'PR', 'word.islower()': False, 'word[0].isupper()': True, 'word[0].islower()': False, 'not word[0].isalnum()': False, 'not word.isalnum()': False, 'word.isalpha()': True, 'size': 7, '-1:word.lower()': 'ministério', '-1:word.istitle()': False, '-1:word.isupper()': True, '-1:postag': 'PROPN', '-1:postag[:2]': 'PR', '-1:word.islower()': False, '-2:word.lower()': 'pelo', '-2:word.istitle()': False, '-2:word.isupper()': True, '-2:postag': 'ADP', '-2:postag[:2]': 'AD', '-2:word.islower()': False, '+1:word.lower()': 'em', '+1:word.istitle()': False, '+1:word.isupper()': True, '+1:postag': 'ADP', '+1:postag[:2]': 'AD', '+1:word.islower()': False, '+2:word.lower()': 'grau', '+2:word.istitle()': False, '+2:word.isupper()': True, '+2:postag': 'PROPN', '+2:postag[:2]': 'PR', '+2:word.islower()': False}, {'bias': 1.0, 'word.lower()': 'em', 'word[-3:]': 'EM', 'word[-2:]': 'EM', 'word.isupper()': True, 'word.istitle()': False, 'word.isdigit()': False, 'postag': 'ADP', 'postag[:2]': 'AD', 'word.islower()': False, 'word[0].isupper()': True, 'word[0].islower()': False, 'not word[0].isalnum()': False, 'not word.isalnum()': False, 'word.isalpha()': True, 'size': 2, '-1:word.lower()': 'público', '-1:word.istitle()': False, '-1:word.isupper()': True, '-1:postag': 'PROPN', '-1:postag[:2]': 'PR', '-1:word.islower()': False, '-2:word.lower()': 'ministério', '-2:word.istitle()': False, '-2:word.isupper()': True, '-2:postag': 'PROPN', '-2:postag[:2]': 'PR', '-2:word.islower()': False, '+1:word.lower()': 'grau', '+1:word.istitle()': False, '+1:word.isupper()': True, '+1:postag': 'PROPN', '+1:postag[:2]': 'PR', '+1:word.islower()': False, '+2:word.lower()': 'recursal', '+2:word.istitle()': False, '+2:word.isupper()': True, '+2:postag': 'PROPN', '+2:postag[:2]': 'PR', '+2:word.islower()': False}, {'bias': 1.0, 'word.lower()': 'grau', 'word[-3:]': 'RAU', 'word[-2:]': 'AU', 'word.isupper()': True, 'word.istitle()': False, 'word.isdigit()': False, 'postag': 'PROPN', 'postag[:2]': 'PR', 'word.islower()': False, 'word[0].isupper()': True, 'word[0].islower()': False, 'not word[0].isalnum()': False, 'not word.isalnum()': False, 'word.isalpha()': True, 'size': 4, '-1:word.lower()': 'em', '-1:word.istitle()': False, '-1:word.isupper()': True, '-1:postag': 'ADP', '-1:postag[:2]': 'AD', '-1:word.islower()': False, '-2:word.lower()': 'público', '-2:word.istitle()': False, '-2:word.isupper()': True, '-2:postag': 'PROPN', '-2:postag[:2]': 'PR', '-2:word.islower()': False, '+1:word.lower()': 'recursal', '+1:word.istitle()': False, '+1:word.isupper()': True, '+1:postag': 'PROPN', '+1:postag[:2]': 'PR', '+1:word.islower()': False, '+2:word.lower()': '-', '+2:word.istitle()': False, '+2:word.isupper()': False, '+2:postag': 'PUNCT', '+2:postag[:2]': 'PU', '+2:word.islower()': False}, {'bias': 1.0, 'word.lower()': 'recursal', 'word[-3:]': 'SAL', 'word[-2:]': 'AL', 'word.isupper()': True, 'word.istitle()': False, 'word.isdigit()': False, 'postag': 'PROPN', 'postag[:2]': 'PR', 'word.islower()': False, 'word[0].isupper()': True, 'word[0].islower()': False, 'not word[0].isalnum()': False, 'not word.isalnum()': False, 'word.isalpha()': True, 'size': 8, '-1:word.lower()': 'grau', '-1:word.istitle()': False, '-1:word.isupper()': True, '-1:postag': 'PROPN', '-1:postag[:2]': 'PR', '-1:word.islower()': False, '-2:word.lower()': 'em', '-2:word.istitle()': False, '-2:word.isupper()': True, '-2:postag': 'ADP', '-2:postag[:2]': 'AD', '-2:word.islower()': False, '+1:word.lower()': '-', '+1:word.istitle()': False, '+1:word.isupper()': False, '+1:postag': 'PUNCT', '+1:postag[:2]': 'PU', '+1:word.islower()': False, '+2:word.lower()': 'nulidade', '+2:word.istitle()': False, '+2:word.isupper()': True, '+2:postag': 'PROPN', '+2:postag[:2]': 'PR', '+2:word.islower()': False}, {'bias': 1.0, 'word.lower()': '-', 'word[-3:]': '-', 'word[-2:]': '-', 'word.isupper()': False, 'word.istitle()': False, 'word.isdigit()': False, 'postag': 'PUNCT', 'postag[:2]': 'PU', 'word.islower()': False, 'word[0].isupper()': False, 'word[0].islower()': False, 'not word[0].isalnum()': True, 'not word.isalnum()': True, 'word.isalpha()': False, 'size': 1, '-1:word.lower()': 'recursal', '-1:word.istitle()': False, '-1:word.isupper()': True, '-1:postag': 'PROPN', '-1:postag[:2]': 'PR', '-1:word.islower()': False, '-2:word.lower()': 'grau', '-2:word.istitle()': False, '-2:word.isupper()': True, '-2:postag': 'PROPN', '-2:postag[:2]': 'PR', '-2:word.islower()': False, '+1:word.lower()': 'nulidade', '+1:word.istitle()': False, '+1:word.isupper()': True, '+1:postag': 'PROPN', '+1:postag[:2]': 'PR', '+1:word.islower()': False, '+2:word.lower()': '-', '+2:word.istitle()': False, '+2:word.isupper()': False, '+2:postag': 'PUNCT', '+2:postag[:2]': 'PU', '+2:word.islower()': False}, {'bias': 1.0, 'word.lower()': 'nulidade', 'word[-3:]': 'ADE', 'word[-2:]': 'DE', 'word.isupper()': True, 'word.istitle()': False, 'word.isdigit()': False, 'postag': 'PROPN', 'postag[:2]': 'PR', 'word.islower()': False, 'word[0].isupper()': True, 'word[0].islower()': False, 'not word[0].isalnum()': False, 'not word.isalnum()': False, 'word.isalpha()': True, 'size': 8, '-1:word.lower()': '-', '-1:word.istitle()': False, '-1:word.isupper()': False, '-1:postag': 'PUNCT', '-1:postag[:2]': 'PU', '-1:word.islower()': False, '-2:word.lower()': 'recursal', '-2:word.istitle()': False, '-2:word.isupper()': True, '-2:postag': 'PROPN', '-2:postag[:2]': 'PR', '-2:word.islower()': False, '+1:word.lower()': '-', '+1:word.istitle()': False, '+1:word.isupper()': False, '+1:postag': 'PUNCT', '+1:postag[:2]': 'PU', '+1:word.islower()': False, '+2:word.lower()': 'ausência', '+2:word.istitle()': False, '+2:word.isupper()': True, '+2:postag': 'X', '+2:postag[:2]': 'X', '+2:word.islower()': False}, {'bias': 1.0, 'word.lower()': '-', 'word[-3:]': '-', 'word[-2:]': '-', 'word.isupper()': False, 'word.istitle()': False, 'word.isdigit()': False, 'postag': 'PUNCT', 'postag[:2]': 'PU', 'word.islower()': False, 'word[0].isupper()': False, 'word[0].islower()': False, 'not word[0].isalnum()': True, 'not word.isalnum()': True, 'word.isalpha()': False, 'size': 1, '-1:word.lower()': 'nulidade', '-1:word.istitle()': False, '-1:word.isupper()': True, '-1:postag': 'PROPN', '-1:postag[:2]': 'PR', '-1:word.islower()': False, '-2:word.lower()': '-', '-2:word.istitle()': False, '-2:word.isupper()': False, '-2:postag': 'PUNCT', '-2:postag[:2]': 'PU', '-2:word.islower()': False, '+1:word.lower()': 'ausência', '+1:word.istitle()': False, '+1:word.isupper()': True, '+1:postag': 'X', '+1:postag[:2]': 'X', '+1:word.islower()': False, '+2:word.lower()': 'de', '+2:word.istitle()': False, '+2:word.isupper()': True, '+2:postag': 'ADP', '+2:postag[:2]': 'AD', '+2:word.islower()': False}, {'bias': 1.0, 'word.lower()': 'ausência', 'word[-3:]': 'CIA', 'word[-2:]': 'IA', 'word.isupper()': True, 'word.istitle()': False, 'word.isdigit()': False, 'postag': 'X', 'postag[:2]': 'X', 'word.islower()': False, 'word[0].isupper()': True, 'word[0].islower()': False, 'not word[0].isalnum()': False, 'not word.isalnum()': False, 'word.isalpha()': True, 'size': 8, '-1:word.lower()': '-', '-1:word.istitle()': False, '-1:word.isupper()': False, '-1:postag': 'PUNCT', '-1:postag[:2]': 'PU', '-1:word.islower()': False, '-2:word.lower()': 'nulidade', '-2:word.istitle()': False, '-2:word.isupper()': True, '-2:postag': 'PROPN', '-2:postag[:2]': 'PR', '-2:word.islower()': False, '+1:word.lower()': 'de', '+1:word.istitle()': False, '+1:word.isupper()': True, '+1:postag': 'ADP', '+1:postag[:2]': 'AD', '+1:word.islower()': False, '+2:word.lower()': 'intervenção', '+2:word.istitle()': False, '+2:word.isupper()': True, '+2:postag': 'PROPN', '+2:postag[:2]': 'PR', '+2:word.islower()': False}, {'bias': 1.0, 'word.lower()': 'de', 'word[-3:]': 'DE', 'word[-2:]': 'DE', 'word.isupper()': True, 'word.istitle()': False, 'word.isdigit()': False, 'postag': 'ADP', 'postag[:2]': 'AD', 'word.islower()': False, 'word[0].isupper()': True, 'word[0].islower()': False, 'not word[0].isalnum()': False, 'not word.isalnum()': False, 'word.isalpha()': True, 'size': 2, '-1:word.lower()': 'ausência', '-1:word.istitle()': False, '-1:word.isupper()': True, '-1:postag': 'X', '-1:postag[:2]': 'X', '-1:word.islower()': False, '-2:word.lower()': '-', '-2:word.istitle()': False, '-2:word.isupper()': False, '-2:postag': 'PUNCT', '-2:postag[:2]': 'PU', '-2:word.islower()': False, '+1:word.lower()': 'intervenção', '+1:word.istitle()': False, '+1:word.isupper()': True, '+1:postag': 'PROPN', '+1:postag[:2]': 'PR', '+1:word.islower()': False, '+2:word.lower()': 'do', '+2:word.istitle()': False, '+2:word.isupper()': True, '+2:postag': 'ADP', '+2:postag[:2]': 'AD', '+2:word.islower()': False}, {'bias': 1.0, 'word.lower()': 'intervenção', 'word[-3:]': 'ÇÃO', 'word[-2:]': 'ÃO', 'word.isupper()': True, 'word.istitle()': False, 'word.isdigit()': False, 'postag': 'PROPN', 'postag[:2]': 'PR', 'word.islower()': False, 'word[0].isupper()': True, 'word[0].islower()': False, 'not word[0].isalnum()': False, 'not word.isalnum()': False, 'word.isalpha()': True, 'size': 11, '-1:word.lower()': 'de', '-1:word.istitle()': False, '-1:word.isupper()': True, '-1:postag': 'ADP', '-1:postag[:2]': 'AD', '-1:word.islower()': False, '-2:word.lower()': 'ausência', '-2:word.istitle()': False, '-2:word.isupper()': True, '-2:postag': 'X', '-2:postag[:2]': 'X', '-2:word.islower()': False, '+1:word.lower()': 'do', '+1:word.istitle()': False, '+1:word.isupper()': True, '+1:postag': 'ADP', '+1:postag[:2]': 'AD', '+1:word.islower()': False, '+2:word.lower()': 'parquet', '+2:word.istitle()': False, '+2:word.isupper()': True, '+2:postag': 'PROPN', '+2:postag[:2]': 'PR', '+2:word.islower()': False}, {'bias': 1.0, 'word.lower()': 'do', 'word[-3:]': 'DO', 'word[-2:]': 'DO', 'word.isupper()': True, 'word.istitle()': False, 'word.isdigit()': False, 'postag': 'ADP', 'postag[:2]': 'AD', 'word.islower()': False, 'word[0].isupper()': True, 'word[0].islower()': False, 'not word[0].isalnum()': False, 'not word.isalnum()': False, 'word.isalpha()': True, 'size': 2, '-1:word.lower()': 'intervenção', '-1:word.istitle()': False, '-1:word.isupper()': True, '-1:postag': 'PROPN', '-1:postag[:2]': 'PR', '-1:word.islower()': False, '-2:word.lower()': 'de', '-2:word.istitle()': False, '-2:word.isupper()': True, '-2:postag': 'ADP', '-2:postag[:2]': 'AD', '-2:word.islower()': False, '+1:word.lower()': 'parquet', '+1:word.istitle()': False, '+1:word.isupper()': True, '+1:postag': 'PROPN', '+1:postag[:2]': 'PR', '+1:word.islower()': False, '+2:word.lower()': 'na', '+2:word.istitle()': False, '+2:word.isupper()': True, '+2:postag': 'ADP', '+2:postag[:2]': 'AD', '+2:word.islower()': False}, {'bias': 1.0, 'word.lower()': 'parquet', 'word[-3:]': 'UET', 'word[-2:]': 'ET', 'word.isupper()': True, 'word.istitle()': False, 'word.isdigit()': False, 'postag': 'PROPN', 'postag[:2]': 'PR', 'word.islower()': False, 'word[0].isupper()': True, 'word[0].islower()': False, 'not word[0].isalnum()': False, 'not word.isalnum()': False, 'word.isalpha()': True, 'size': 7, '-1:word.lower()': 'do', '-1:word.istitle()': False, '-1:word.isupper()': True, '-1:postag': 'ADP', '-1:postag[:2]': 'AD', '-1:word.islower()': False, '-2:word.lower()': 'intervenção', '-2:word.istitle()': False, '-2:word.isupper()': True, '-2:postag': 'PROPN', '-2:postag[:2]': 'PR', '-2:word.islower()': False, '+1:word.lower()': 'na', '+1:word.istitle()': False, '+1:word.isupper()': True, '+1:postag': 'ADP', '+1:postag[:2]': 'AD', '+1:word.islower()': False, '+2:word.lower()': 'instância', '+2:word.istitle()': False, '+2:word.isupper()': True, '+2:postag': 'NOUN', '+2:postag[:2]': 'NO', '+2:word.islower()': False}, {'bias': 1.0, 'word.lower()': 'na', 'word[-3:]': 'NA', 'word[-2:]': 'NA', 'word.isupper()': True, 'word.istitle()': False, 'word.isdigit()': False, 'postag': 'ADP', 'postag[:2]': 'AD', 'word.islower()': False, 'word[0].isupper()': True, 'word[0].islower()': False, 'not word[0].isalnum()': False, 'not word.isalnum()': False, 'word.isalpha()': True, 'size': 2, '-1:word.lower()': 'parquet', '-1:word.istitle()': False, '-1:word.isupper()': True, '-1:postag': 'PROPN', '-1:postag[:2]': 'PR', '-1:word.islower()': False, '-2:word.lower()': 'do', '-2:word.istitle()': False, '-2:word.isupper()': True, '-2:postag': 'ADP', '-2:postag[:2]': 'AD', '-2:word.islower()': False, '+1:word.lower()': 'instância', '+1:word.istitle()': False, '+1:word.isupper()': True, '+1:postag': 'NOUN', '+1:postag[:2]': 'NO', '+1:word.islower()': False, '+2:word.lower()': 'a', '+2:word.istitle()': True, '+2:word.isupper()': True, '+2:postag': 'DET', '+2:postag[:2]': 'DE', '+2:word.islower()': False}, {'bias': 1.0, 'word.lower()': 'instância', 'word[-3:]': 'CIA', 'word[-2:]': 'IA', 'word.isupper()': True, 'word.istitle()': False, 'word.isdigit()': False, 'postag': 'NOUN', 'postag[:2]': 'NO', 'word.islower()': False, 'word[0].isupper()': True, 'word[0].islower()': False, 'not word[0].isalnum()': False, 'not word.isalnum()': False, 'word.isalpha()': True, 'size': 9, '-1:word.lower()': 'na', '-1:word.istitle()': False, '-1:word.isupper()': True, '-1:postag': 'ADP', '-1:postag[:2]': 'AD', '-1:word.islower()': False, '-2:word.lower()': 'parquet', '-2:word.istitle()': False, '-2:word.isupper()': True, '-2:postag': 'PROPN', '-2:postag[:2]': 'PR', '-2:word.islower()': False, '+1:word.lower()': 'a', '+1:word.istitle()': True, '+1:word.isupper()': True, '+1:postag': 'DET', '+1:postag[:2]': 'DE', '+1:word.islower()': False, '+2:word.lower()': 'quo', '+2:word.istitle()': False, '+2:word.isupper()': True, '+2:postag': 'PROPN', '+2:postag[:2]': 'PR', '+2:word.islower()': False}, {'bias': 1.0, 'word.lower()': 'a', 'word[-3:]': 'A', 'word[-2:]': 'A', 'word.isupper()': True, 'word.istitle()': True, 'word.isdigit()': False, 'postag': 'DET', 'postag[:2]': 'DE', 'word.islower()': False, 'word[0].isupper()': True, 'word[0].islower()': False, 'not word[0].isalnum()': False, 'not word.isalnum()': False, 'word.isalpha()': True, 'size': 1, '-1:word.lower()': 'instância', '-1:word.istitle()': False, '-1:word.isupper()': True, '-1:postag': 'NOUN', '-1:postag[:2]': 'NO', '-1:word.islower()': False, '-2:word.lower()': 'na', '-2:word.istitle()': False, '-2:word.isupper()': True, '-2:postag': 'ADP', '-2:postag[:2]': 'AD', '-2:word.islower()': False, '+1:word.lower()': 'quo', '+1:word.istitle()': False, '+1:word.isupper()': True, '+1:postag': 'PROPN', '+1:postag[:2]': 'PR', '+1:word.islower()': False, '+2:word.lower()': '-', '+2:word.istitle()': False, '+2:word.isupper()': False, '+2:postag': 'PUNCT', '+2:postag[:2]': 'PU', '+2:word.islower()': False}, {'bias': 1.0, 'word.lower()': 'quo', 'word[-3:]': 'QUO', 'word[-2:]': 'UO', 'word.isupper()': True, 'word.istitle()': False, 'word.isdigit()': False, 'postag': 'PROPN', 'postag[:2]': 'PR', 'word.islower()': False, 'word[0].isupper()': True, 'word[0].islower()': False, 'not word[0].isalnum()': False, 'not word.isalnum()': False, 'word.isalpha()': True, 'size': 3, '-1:word.lower()': 'a', '-1:word.istitle()': True, '-1:word.isupper()': True, '-1:postag': 'DET', '-1:postag[:2]': 'DE', '-1:word.islower()': False, '-2:word.lower()': 'instância', '-2:word.istitle()': False, '-2:word.isupper()': True, '-2:postag': 'NOUN', '-2:postag[:2]': 'NO', '-2:word.islower()': False, '+1:word.lower()': '-', '+1:word.istitle()': False, '+1:word.isupper()': False, '+1:postag': 'PUNCT', '+1:postag[:2]': 'PU', '+1:word.islower()': False, '+2:word.lower()': 'presença', '+2:word.istitle()': False, '+2:word.isupper()': True, '+2:postag': 'PROPN', '+2:postag[:2]': 'PR', '+2:word.islower()': False}, {'bias': 1.0, 'word.lower()': '-', 'word[-3:]': '-', 'word[-2:]': '-', 'word.isupper()': False, 'word.istitle()': False, 'word.isdigit()': False, 'postag': 'PUNCT', 'postag[:2]': 'PU', 'word.islower()': False, 'word[0].isupper()': False, 'word[0].islower()': False, 'not word[0].isalnum()': True, 'not word.isalnum()': True, 'word.isalpha()': False, 'size': 1, '-1:word.lower()': 'quo', '-1:word.istitle()': False, '-1:word.isupper()': True, '-1:postag': 'PROPN', '-1:postag[:2]': 'PR', '-1:word.islower()': False, '-2:word.lower()': 'a', '-2:word.istitle()': True, '-2:word.isupper()': True, '-2:postag': 'DET', '-2:postag[:2]': 'DE', '-2:word.islower()': False, '+1:word.lower()': 'presença', '+1:word.istitle()': False, '+1:word.isupper()': True, '+1:postag': 'PROPN', '+1:postag[:2]': 'PR', '+1:word.islower()': False, '+2:word.lower()': 'de', '+2:word.istitle()': False, '+2:word.isupper()': True, '+2:postag': 'ADP', '+2:postag[:2]': 'AD', '+2:word.islower()': False}, {'bias': 1.0, 'word.lower()': 'presença', 'word[-3:]': 'NÇA', 'word[-2:]': 'ÇA', 'word.isupper()': True, 'word.istitle()': False, 'word.isdigit()': False, 'postag': 'PROPN', 'postag[:2]': 'PR', 'word.islower()': False, 'word[0].isupper()': True, 'word[0].islower()': False, 'not word[0].isalnum()': False, 'not word.isalnum()': False, 'word.isalpha()': True, 'size': 8, '-1:word.lower()': '-', '-1:word.istitle()': False, '-1:word.isupper()': False, '-1:postag': 'PUNCT', '-1:postag[:2]': 'PU', '-1:word.islower()': False, '-2:word.lower()': 'quo', '-2:word.istitle()': False, '-2:word.isupper()': True, '-2:postag': 'PROPN', '-2:postag[:2]': 'PR', '-2:word.islower()': False, '+1:word.lower()': 'de', '+1:word.istitle()': False, '+1:word.isupper()': True, '+1:postag': 'ADP', '+1:postag[:2]': 'AD', '+1:word.islower()': False, '+2:word.lower()': 'incapaz', '+2:word.istitle()': False, '+2:word.isupper()': True, '+2:postag': 'PROPN', '+2:postag[:2]': 'PR', '+2:word.islower()': False}, {'bias': 1.0, 'word.lower()': 'de', 'word[-3:]': 'DE', 'word[-2:]': 'DE', 'word.isupper()': True, 'word.istitle()': False, 'word.isdigit()': False, 'postag': 'ADP', 'postag[:2]': 'AD', 'word.islower()': False, 'word[0].isupper()': True, 'word[0].islower()': False, 'not word[0].isalnum()': False, 'not word.isalnum()': False, 'word.isalpha()': True, 'size': 2, '-1:word.lower()': 'presença', '-1:word.istitle()': False, '-1:word.isupper()': True, '-1:postag': 'PROPN', '-1:postag[:2]': 'PR', '-1:word.islower()': False, '-2:word.lower()': '-', '-2:word.istitle()': False, '-2:word.isupper()': False, '-2:postag': 'PUNCT', '-2:postag[:2]': 'PU', '-2:word.islower()': False, '+1:word.lower()': 'incapaz', '+1:word.istitle()': False, '+1:word.isupper()': True, '+1:postag': 'PROPN', '+1:postag[:2]': 'PR', '+1:word.islower()': False, '+2:word.lower()': '-', '+2:word.istitle()': False, '+2:word.isupper()': False, '+2:postag': 'PUNCT', '+2:postag[:2]': 'PU', '+2:word.islower()': False}, {'bias': 1.0, 'word.lower()': 'incapaz', 'word[-3:]': 'PAZ', 'word[-2:]': 'AZ', 'word.isupper()': True, 'word.istitle()': False, 'word.isdigit()': False, 'postag': 'PROPN', 'postag[:2]': 'PR', 'word.islower()': False, 'word[0].isupper()': True, 'word[0].islower()': False, 'not word[0].isalnum()': False, 'not word.isalnum()': False, 'word.isalpha()': True, 'size': 7, '-1:word.lower()': 'de', '-1:word.istitle()': False, '-1:word.isupper()': True, '-1:postag': 'ADP', '-1:postag[:2]': 'AD', '-1:word.islower()': False, '-2:word.lower()': 'presença', '-2:word.istitle()': False, '-2:word.isupper()': True, '-2:postag': 'PROPN', '-2:postag[:2]': 'PR', '-2:word.islower()': False, '+1:word.lower()': '-', '+1:word.istitle()': False, '+1:word.isupper()': False, '+1:postag': 'PUNCT', '+1:postag[:2]': 'PU', '+1:word.islower()': False, '+2:word.lower()': 'prejuízo', '+2:word.istitle()': False, '+2:word.isupper()': True, '+2:postag': 'PROPN', '+2:postag[:2]': 'PR', '+2:word.islower()': False}, {'bias': 1.0, 'word.lower()': '-', 'word[-3:]': '-', 'word[-2:]': '-', 'word.isupper()': False, 'word.istitle()': False, 'word.isdigit()': False, 'postag': 'PUNCT', 'postag[:2]': 'PU', 'word.islower()': False, 'word[0].isupper()': False, 'word[0].islower()': False, 'not word[0].isalnum()': True, 'not word.isalnum()': True, 'word.isalpha()': False, 'size': 1, '-1:word.lower()': 'incapaz', '-1:word.istitle()': False, '-1:word.isupper()': True, '-1:postag': 'PROPN', '-1:postag[:2]': 'PR', '-1:word.islower()': False, '-2:word.lower()': 'de', '-2:word.istitle()': False, '-2:word.isupper()': True, '-2:postag': 'ADP', '-2:postag[:2]': 'AD', '-2:word.islower()': False, '+1:word.lower()': 'prejuízo', '+1:word.istitle()': False, '+1:word.isupper()': True, '+1:postag': 'PROPN', '+1:postag[:2]': 'PR', '+1:word.islower()': False, '+2:word.lower()': 'existente', '+2:word.istitle()': False, '+2:word.isupper()': True, '+2:postag': 'PROPN', '+2:postag[:2]': 'PR', '+2:word.islower()': False}, {'bias': 1.0, 'word.lower()': 'prejuízo', 'word[-3:]': 'ÍZO', 'word[-2:]': 'ZO', 'word.isupper()': True, 'word.istitle()': False, 'word.isdigit()': False, 'postag': 'PROPN', 'postag[:2]': 'PR', 'word.islower()': False, 'word[0].isupper()': True, 'word[0].islower()': False, 'not word[0].isalnum()': False, 'not word.isalnum()': False, 'word.isalpha()': True, 'size': 8, '-1:word.lower()': '-', '-1:word.istitle()': False, '-1:word.isupper()': False, '-1:postag': 'PUNCT', '-1:postag[:2]': 'PU', '-1:word.islower()': False, '-2:word.lower()': 'incapaz', '-2:word.istitle()': False, '-2:word.isupper()': True, '-2:postag': 'PROPN', '-2:postag[:2]': 'PR', '-2:word.islower()': False, '+1:word.lower()': 'existente', '+1:word.istitle()': False, '+1:word.isupper()': True, '+1:postag': 'PROPN', '+1:postag[:2]': 'PR', '+1:word.islower()': False, '+2:word.lower()': '-', '+2:word.istitle()': False, '+2:word.isupper()': False, '+2:postag': 'PUNCT', '+2:postag[:2]': 'PU', '+2:word.islower()': False}, {'bias': 1.0, 'word.lower()': 'existente', 'word[-3:]': 'NTE', 'word[-2:]': 'TE', 'word.isupper()': True, 'word.istitle()': False, 'word.isdigit()': False, 'postag': 'PROPN', 'postag[:2]': 'PR', 'word.islower()': False, 'word[0].isupper()': True, 'word[0].islower()': False, 'not word[0].isalnum()': False, 'not word.isalnum()': False, 'word.isalpha()': True, 'size': 9, '-1:word.lower()': 'prejuízo', '-1:word.istitle()': False, '-1:word.isupper()': True, '-1:postag': 'PROPN', '-1:postag[:2]': 'PR', '-1:word.islower()': False, '-2:word.lower()': '-', '-2:word.istitle()': False, '-2:word.isupper()': False, '-2:postag': 'PUNCT', '-2:postag[:2]': 'PU', '-2:word.islower()': False, '+1:word.lower()': '-', '+1:word.istitle()': False, '+1:word.isupper()': False, '+1:postag': 'PUNCT', '+1:postag[:2]': 'PU', '+1:word.islower()': False, '+2:word.lower()': 'preliminar', '+2:word.istitle()': False, '+2:word.isupper()': True, '+2:postag': 'PROPN', '+2:postag[:2]': 'PR', '+2:word.islower()': False}, {'bias': 1.0, 'word.lower()': '-', 'word[-3:]': '-', 'word[-2:]': '-', 'word.isupper()': False, 'word.istitle()': False, 'word.isdigit()': False, 'postag': 'PUNCT', 'postag[:2]': 'PU', 'word.islower()': False, 'word[0].isupper()': False, 'word[0].islower()': False, 'not word[0].isalnum()': True, 'not word.isalnum()': True, 'word.isalpha()': False, 'size': 1, '-1:word.lower()': 'existente', '-1:word.istitle()': False, '-1:word.isupper()': True, '-1:postag': 'PROPN', '-1:postag[:2]': 'PR', '-1:word.islower()': False, '-2:word.lower()': 'prejuízo', '-2:word.istitle()': False, '-2:word.isupper()': True, '-2:postag': 'PROPN', '-2:postag[:2]': 'PR', '-2:word.islower()': False, '+1:word.lower()': 'preliminar', '+1:word.istitle()': False, '+1:word.isupper()': True, '+1:postag': 'PROPN', '+1:postag[:2]': 'PR', '+1:word.islower()': False, '+2:word.lower()': 'acolhida', '+2:word.istitle()': False, '+2:word.isupper()': True, '+2:postag': 'PROPN', '+2:postag[:2]': 'PR', '+2:word.islower()': False}, {'bias': 1.0, 'word.lower()': 'preliminar', 'word[-3:]': 'NAR', 'word[-2:]': 'AR', 'word.isupper()': True, 'word.istitle()': False, 'word.isdigit()': False, 'postag': 'PROPN', 'postag[:2]': 'PR', 'word.islower()': False, 'word[0].isupper()': True, 'word[0].islower()': False, 'not word[0].isalnum()': False, 'not word.isalnum()': False, 'word.isalpha()': True, 'size': 10, '-1:word.lower()': '-', '-1:word.istitle()': False, '-1:word.isupper()': False, '-1:postag': 'PUNCT', '-1:postag[:2]': 'PU', '-1:word.islower()': False, '-2:word.lower()': 'existente', '-2:word.istitle()': False, '-2:word.isupper()': True, '-2:postag': 'PROPN', '-2:postag[:2]': 'PR', '-2:word.islower()': False, '+1:word.lower()': 'acolhida', '+1:word.istitle()': False, '+1:word.isupper()': True, '+1:postag': 'PROPN', '+1:postag[:2]': 'PR', '+1:word.islower()': False, '+2:word.lower()': '-', '+2:word.istitle()': False, '+2:word.isupper()': False, '+2:postag': 'PUNCT', '+2:postag[:2]': 'PU', '+2:word.islower()': False}, {'bias': 1.0, 'word.lower()': 'acolhida', 'word[-3:]': 'IDA', 'word[-2:]': 'DA', 'word.isupper()': True, 'word.istitle()': False, 'word.isdigit()': False, 'postag': 'PROPN', 'postag[:2]': 'PR', 'word.islower()': False, 'word[0].isupper()': True, 'word[0].islower()': False, 'not word[0].isalnum()': False, 'not word.isalnum()': False, 'word.isalpha()': True, 'size': 8, '-1:word.lower()': 'preliminar', '-1:word.istitle()': False, '-1:word.isupper()': True, '-1:postag': 'PROPN', '-1:postag[:2]': 'PR', '-1:word.islower()': False, '-2:word.lower()': '-', '-2:word.istitle()': False, '-2:word.isupper()': False, '-2:postag': 'PUNCT', '-2:postag[:2]': 'PU', '-2:word.islower()': False, '+1:word.lower()': '-', '+1:word.istitle()': False, '+1:word.isupper()': False, '+1:postag': 'PUNCT', '+1:postag[:2]': 'PU', '+1:word.islower()': False, '+2:word.lower()': 'nulidade', '+2:word.istitle()': False, '+2:word.isupper()': True, '+2:postag': 'PROPN', '+2:postag[:2]': 'PR', '+2:word.islower()': False}, {'bias': 1.0, 'word.lower()': '-', 'word[-3:]': '-', 'word[-2:]': '-', 'word.isupper()': False, 'word.istitle()': False, 'word.isdigit()': False, 'postag': 'PUNCT', 'postag[:2]': 'PU', 'word.islower()': False, 'word[0].isupper()': False, 'word[0].islower()': False, 'not word[0].isalnum()': True, 'not word.isalnum()': True, 'word.isalpha()': False, 'size': 1, '-1:word.lower()': 'acolhida', '-1:word.istitle()': False, '-1:word.isupper()': True, '-1:postag': 'PROPN', '-1:postag[:2]': 'PR', '-1:word.islower()': False, '-2:word.lower()': 'preliminar', '-2:word.istitle()': False, '-2:word.isupper()': True, '-2:postag': 'PROPN', '-2:postag[:2]': 'PR', '-2:word.islower()': False, '+1:word.lower()': 'nulidade', '+1:word.istitle()': False, '+1:word.isupper()': True, '+1:postag': 'PROPN', '+1:postag[:2]': 'PR', '+1:word.islower()': False, '+2:word.lower()': 'reconhecida', '+2:word.istitle()': False, '+2:word.isupper()': True, '+2:postag': 'NOUN', '+2:postag[:2]': 'NO', '+2:word.islower()': False}, {'bias': 1.0, 'word.lower()': 'nulidade', 'word[-3:]': 'ADE', 'word[-2:]': 'DE', 'word.isupper()': True, 'word.istitle()': False, 'word.isdigit()': False, 'postag': 'PROPN', 'postag[:2]': 'PR', 'word.islower()': False, 'word[0].isupper()': True, 'word[0].islower()': False, 'not word[0].isalnum()': False, 'not word.isalnum()': False, 'word.isalpha()': True, 'size': 8, '-1:word.lower()': '-', '-1:word.istitle()': False, '-1:word.isupper()': False, '-1:postag': 'PUNCT', '-1:postag[:2]': 'PU', '-1:word.islower()': False, '-2:word.lower()': 'acolhida', '-2:word.istitle()': False, '-2:word.isupper()': True, '-2:postag': 'PROPN', '-2:postag[:2]': 'PR', '-2:word.islower()': False, '+1:word.lower()': 'reconhecida', '+1:word.istitle()': False, '+1:word.isupper()': True, '+1:postag': 'NOUN', '+1:postag[:2]': 'NO', '+1:word.islower()': False, '+2:word.lower()': '.', '+2:word.istitle()': False, '+2:word.isupper()': False, '+2:postag': 'PUNCT', '+2:postag[:2]': 'PU', '+2:word.islower()': False}, {'bias': 1.0, 'word.lower()': 'reconhecida', 'word[-3:]': 'IDA', 'word[-2:]': 'DA', 'word.isupper()': True, 'word.istitle()': False, 'word.isdigit()': False, 'postag': 'NOUN', 'postag[:2]': 'NO', 'word.islower()': False, 'word[0].isupper()': True, 'word[0].islower()': False, 'not word[0].isalnum()': False, 'not word.isalnum()': False, 'word.isalpha()': True, 'size': 11, '-1:word.lower()': 'nulidade', '-1:word.istitle()': False, '-1:word.isupper()': True, '-1:postag': 'PROPN', '-1:postag[:2]': 'PR', '-1:word.islower()': False, '-2:word.lower()': '-', '-2:word.istitle()': False, '-2:word.isupper()': False, '-2:postag': 'PUNCT', '-2:postag[:2]': 'PU', '-2:word.islower()': False, '+1:word.lower()': '.', '+1:word.istitle()': False, '+1:word.isupper()': False, '+1:postag': 'PUNCT', '+1:postag[:2]': 'PU', '+1:word.islower()': False}, {'bias': 1.0, 'word.lower()': '.', 'word[-3:]': '.', 'word[-2:]': '.', 'word.isupper()': False, 'word.istitle()': False, 'word.isdigit()': False, 'postag': 'PUNCT', 'postag[:2]': 'PU', 'word.islower()': False, 'word[0].isupper()': False, 'word[0].islower()': False, 'not word[0].isalnum()': True, 'not word.isalnum()': True, 'word.isalpha()': False, 'size': 1, '-1:word.lower()': 'reconhecida', '-1:word.istitle()': False, '-1:word.isupper()': True, '-1:postag': 'NOUN', '-1:postag[:2]': 'NO', '-1:word.islower()': False, '-2:word.lower()': 'nulidade', '-2:word.istitle()': False, '-2:word.isupper()': True, '-2:postag': 'PROPN', '-2:postag[:2]': 'PR', '-2:word.islower()': False, 'EOS': True}]\n",
            "\n",
            "Label: ['O', 'O', 'O', 'O', 'O', 'O', 'O', 'O', 'O', 'O', 'O', 'O', 'O', 'O', 'O', 'O', 'B-ORGANIZACAO', 'I-ORGANIZACAO', 'O', 'O', 'O', 'O', 'O', 'O', 'O', 'O', 'O', 'O', 'O', 'O', 'O', 'O', 'O', 'O', 'O', 'O', 'O', 'O', 'O', 'O', 'O', 'O', 'O', 'O', 'O', 'O', 'O']\n"
          ]
        }
      ]
    },
    {
      "cell_type": "code",
      "source": [
        "#crf = CRF(max_iterations=100, c1=0.1, c2=0.1, all_possible_transitions=False)\n",
        "#crf = CRF(max_iterations=100, c1=0.1, c2=0.1, all_possible_transitions=np.true_divide)\n",
        "crf = CRF(max_iterations=100, c1=0.1, c2=0.1, all_possible_transitions=True)\n",
        "\n",
        "#Testar com max_iterations=100, all_possible_transitions=True\n",
        "\n"
      ],
      "metadata": {
        "id": "4hCHY0F08sr6"
      },
      "execution_count": 14,
      "outputs": []
    },
    {
      "cell_type": "code",
      "source": [
        "try:\n",
        "  crf.fit(X_train, y_train)\n",
        "except AttributeError:\n",
        "  pass"
      ],
      "metadata": {
        "id": "RQVqdK6l87wC"
      },
      "execution_count": 15,
      "outputs": []
    },
    {
      "cell_type": "code",
      "source": [
        "y_pred = crf.predict(X_test)"
      ],
      "metadata": {
        "id": "JCVKg05YiALK"
      },
      "execution_count": 16,
      "outputs": []
    },
    {
      "cell_type": "code",
      "source": [
        "report = classification_report(y_test, y_pred, digits=4)\n",
        "print(f'\\nCorpus: {corpus_name}')\n",
        "print(report)"
      ],
      "metadata": {
        "colab": {
          "base_uri": "https://localhost:8080/"
        },
        "id": "C9L9Hz6CiHLJ",
        "outputId": "47759c92-6fd9-49d3-e37e-7e966366f29e"
      },
      "execution_count": 17,
      "outputs": [
        {
          "output_type": "stream",
          "name": "stdout",
          "text": [
            "\n",
            "Corpus: le_ner\n",
            "                precision    recall  f1-score   support\n",
            "\n",
            "JURISPRUDENCIA     0.7416    0.7135    0.7273       185\n",
            "    LEGISLACAO     0.8384    0.7963    0.8168       378\n",
            "         LOCAL     0.7209    0.6596    0.6889        47\n",
            "   ORGANIZACAO     0.8970    0.7824    0.8358       501\n",
            "        PESSOA     0.8806    0.7597    0.8157       233\n",
            "         TEMPO     0.9333    0.8021    0.8627       192\n",
            "\n",
            "     micro avg     0.8583    0.7728    0.8133      1536\n",
            "     macro avg     0.8353    0.7523    0.7912      1536\n",
            "  weighted avg     0.8605    0.7728    0.8139      1536\n",
            "\n"
          ]
        }
      ]
    },
    {
      "cell_type": "code",
      "source": [
        "import pandas as pd\n",
        "\n",
        "## Criando um DataFrame para os dados da tarefa Ulysses-NER-BR e da PL_corpus_categorias\n",
        "data_corpus = {'Sentences': [' '.join(sent) for sent, _, _ in test_data],\n",
        "           'Labels': y_pred}\n",
        "\n",
        "df_corpus = pd.DataFrame(data_corpus)\n",
        "\n",
        "## Salvando os DataFrames como arquivos CSV\n",
        "df_corpus.to_csv(corpus_name+'_predictions.csv', index=False)\n",
        "\n",
        "## Exibindo os valores da tabela para comparação\n",
        "print(f'\\nCorpus: {corpus_name}')\n",
        "print(df_corpus.head())"
      ],
      "metadata": {
        "id": "wHWbMJdjD29S",
        "colab": {
          "base_uri": "https://localhost:8080/"
        },
        "outputId": "f982e2b0-40ce-4e47-b300-f86a9a551f54"
      },
      "execution_count": 18,
      "outputs": [
        {
          "output_type": "stream",
          "name": "stdout",
          "text": [
            "\n",
            "Corpus: le_ner\n",
            "                                           Sentences  \\\n",
            "0  Número do Acórdão ACÓRDÃO 1160/2016 - PLENÁRIO...   \n",
            "1         Interessado / Responsável / Recorrente 3 .   \n",
            "2      Interessados/Responsáveis/Recorrentes : 3.1 .   \n",
            "3  Interessado : Superior Tribunal Militar ( 00.4...   \n",
            "4  Responsáveis : Aldo da Silva Fagundes ( 000.21...   \n",
            "\n",
            "                                              Labels  \n",
            "0  [O, O, O, B-JURISPRUDENCIA, I-JURISPRUDENCIA, ...  \n",
            "1                              [O, O, O, O, O, O, O]  \n",
            "2                                       [O, O, O, O]  \n",
            "3  [O, O, B-ORGANIZACAO, I-ORGANIZACAO, I-ORGANIZ...  \n",
            "4  [O, O, B-PESSOA, I-PESSOA, I-PESSOA, I-PESSOA,...  \n"
          ]
        }
      ]
    },
    {
      "cell_type": "markdown",
      "source": [
        "![image.png](data:image/png;base64,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)"
      ],
      "metadata": {
        "id": "nY3Y-4LIyx-h"
      }
    }
  ]
}