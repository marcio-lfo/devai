{
  "nbformat": 4,
  "nbformat_minor": 0,
  "metadata": {
    "colab": {
      "provenance": [],
      "authorship_tag": "ABX9TyN+bL8bJaq1RtuyVEABmJIv",
      "include_colab_link": true
    },
    "kernelspec": {
      "name": "python3",
      "display_name": "Python 3"
    },
    "language_info": {
      "name": "python"
    }
  },
  "cells": [
    {
      "cell_type": "markdown",
      "metadata": {
        "id": "view-in-github",
        "colab_type": "text"
      },
      "source": [
        "<a href=\"https://colab.research.google.com/github/marcio-lfo/devai/blob/main/Titanic_Ensembles.ipynb\" target=\"_parent\"><img src=\"https://colab.research.google.com/assets/colab-badge.svg\" alt=\"Open In Colab\"/></a>"
      ]
    },
    {
      "cell_type": "markdown",
      "source": [],
      "metadata": {
        "id": "m2zVHgZ9xLZA"
      }
    },
    {
      "cell_type": "markdown",
      "source": [
        "# **Utilizando Ensembles no projeto do Titanic visando melhorar o desempenho**"
      ],
      "metadata": {
        "id": "27VknBEJEQ0m"
      }
    },
    {
      "cell_type": "code",
      "source": [
        "!unzip titanic.zip"
      ],
      "metadata": {
        "colab": {
          "base_uri": "https://localhost:8080/"
        },
        "id": "q96U7oNnQgKB",
        "outputId": "1dc52f41-1cb5-4a11-b427-9f98ab1902b1"
      },
      "execution_count": 2,
      "outputs": [
        {
          "output_type": "stream",
          "name": "stdout",
          "text": [
            "Archive:  titanic.zip\n",
            "  inflating: gender_submission.csv   \n",
            "  inflating: test.csv                \n",
            "  inflating: train.csv               \n"
          ]
        }
      ]
    },
    {
      "cell_type": "code",
      "execution_count": 3,
      "metadata": {
        "id": "7Da2kyTnnfNK",
        "colab": {
          "base_uri": "https://localhost:8080/",
          "height": 424
        },
        "outputId": "ece08cf4-25ae-4f12-ef23-d8e99cafdc66"
      },
      "outputs": [
        {
          "output_type": "execute_result",
          "data": {
            "text/plain": [
              "     PassengerId  Survived  Pclass  \\\n",
              "0              1         0       3   \n",
              "1              2         1       1   \n",
              "2              3         1       3   \n",
              "3              4         1       1   \n",
              "4              5         0       3   \n",
              "..           ...       ...     ...   \n",
              "886          887         0       2   \n",
              "887          888         1       1   \n",
              "888          889         0       3   \n",
              "889          890         1       1   \n",
              "890          891         0       3   \n",
              "\n",
              "                                                  Name     Sex   Age  SibSp  \\\n",
              "0                              Braund, Mr. Owen Harris    male  22.0      1   \n",
              "1    Cumings, Mrs. John Bradley (Florence Briggs Th...  female  38.0      1   \n",
              "2                               Heikkinen, Miss. Laina  female  26.0      0   \n",
              "3         Futrelle, Mrs. Jacques Heath (Lily May Peel)  female  35.0      1   \n",
              "4                             Allen, Mr. William Henry    male  35.0      0   \n",
              "..                                                 ...     ...   ...    ...   \n",
              "886                              Montvila, Rev. Juozas    male  27.0      0   \n",
              "887                       Graham, Miss. Margaret Edith  female  19.0      0   \n",
              "888           Johnston, Miss. Catherine Helen \"Carrie\"  female   NaN      1   \n",
              "889                              Behr, Mr. Karl Howell    male  26.0      0   \n",
              "890                                Dooley, Mr. Patrick    male  32.0      0   \n",
              "\n",
              "     Parch            Ticket     Fare Cabin Embarked  \n",
              "0        0         A/5 21171   7.2500   NaN        S  \n",
              "1        0          PC 17599  71.2833   C85        C  \n",
              "2        0  STON/O2. 3101282   7.9250   NaN        S  \n",
              "3        0            113803  53.1000  C123        S  \n",
              "4        0            373450   8.0500   NaN        S  \n",
              "..     ...               ...      ...   ...      ...  \n",
              "886      0            211536  13.0000   NaN        S  \n",
              "887      0            112053  30.0000   B42        S  \n",
              "888      2        W./C. 6607  23.4500   NaN        S  \n",
              "889      0            111369  30.0000  C148        C  \n",
              "890      0            370376   7.7500   NaN        Q  \n",
              "\n",
              "[891 rows x 12 columns]"
            ],
            "text/html": [
              "\n",
              "  <div id=\"df-7b2b54ce-3e61-4ffe-a027-8021715d0a0b\" class=\"colab-df-container\">\n",
              "    <div>\n",
              "<style scoped>\n",
              "    .dataframe tbody tr th:only-of-type {\n",
              "        vertical-align: middle;\n",
              "    }\n",
              "\n",
              "    .dataframe tbody tr th {\n",
              "        vertical-align: top;\n",
              "    }\n",
              "\n",
              "    .dataframe thead th {\n",
              "        text-align: right;\n",
              "    }\n",
              "</style>\n",
              "<table border=\"1\" class=\"dataframe\">\n",
              "  <thead>\n",
              "    <tr style=\"text-align: right;\">\n",
              "      <th></th>\n",
              "      <th>PassengerId</th>\n",
              "      <th>Survived</th>\n",
              "      <th>Pclass</th>\n",
              "      <th>Name</th>\n",
              "      <th>Sex</th>\n",
              "      <th>Age</th>\n",
              "      <th>SibSp</th>\n",
              "      <th>Parch</th>\n",
              "      <th>Ticket</th>\n",
              "      <th>Fare</th>\n",
              "      <th>Cabin</th>\n",
              "      <th>Embarked</th>\n",
              "    </tr>\n",
              "  </thead>\n",
              "  <tbody>\n",
              "    <tr>\n",
              "      <th>0</th>\n",
              "      <td>1</td>\n",
              "      <td>0</td>\n",
              "      <td>3</td>\n",
              "      <td>Braund, Mr. Owen Harris</td>\n",
              "      <td>male</td>\n",
              "      <td>22.0</td>\n",
              "      <td>1</td>\n",
              "      <td>0</td>\n",
              "      <td>A/5 21171</td>\n",
              "      <td>7.2500</td>\n",
              "      <td>NaN</td>\n",
              "      <td>S</td>\n",
              "    </tr>\n",
              "    <tr>\n",
              "      <th>1</th>\n",
              "      <td>2</td>\n",
              "      <td>1</td>\n",
              "      <td>1</td>\n",
              "      <td>Cumings, Mrs. John Bradley (Florence Briggs Th...</td>\n",
              "      <td>female</td>\n",
              "      <td>38.0</td>\n",
              "      <td>1</td>\n",
              "      <td>0</td>\n",
              "      <td>PC 17599</td>\n",
              "      <td>71.2833</td>\n",
              "      <td>C85</td>\n",
              "      <td>C</td>\n",
              "    </tr>\n",
              "    <tr>\n",
              "      <th>2</th>\n",
              "      <td>3</td>\n",
              "      <td>1</td>\n",
              "      <td>3</td>\n",
              "      <td>Heikkinen, Miss. Laina</td>\n",
              "      <td>female</td>\n",
              "      <td>26.0</td>\n",
              "      <td>0</td>\n",
              "      <td>0</td>\n",
              "      <td>STON/O2. 3101282</td>\n",
              "      <td>7.9250</td>\n",
              "      <td>NaN</td>\n",
              "      <td>S</td>\n",
              "    </tr>\n",
              "    <tr>\n",
              "      <th>3</th>\n",
              "      <td>4</td>\n",
              "      <td>1</td>\n",
              "      <td>1</td>\n",
              "      <td>Futrelle, Mrs. Jacques Heath (Lily May Peel)</td>\n",
              "      <td>female</td>\n",
              "      <td>35.0</td>\n",
              "      <td>1</td>\n",
              "      <td>0</td>\n",
              "      <td>113803</td>\n",
              "      <td>53.1000</td>\n",
              "      <td>C123</td>\n",
              "      <td>S</td>\n",
              "    </tr>\n",
              "    <tr>\n",
              "      <th>4</th>\n",
              "      <td>5</td>\n",
              "      <td>0</td>\n",
              "      <td>3</td>\n",
              "      <td>Allen, Mr. William Henry</td>\n",
              "      <td>male</td>\n",
              "      <td>35.0</td>\n",
              "      <td>0</td>\n",
              "      <td>0</td>\n",
              "      <td>373450</td>\n",
              "      <td>8.0500</td>\n",
              "      <td>NaN</td>\n",
              "      <td>S</td>\n",
              "    </tr>\n",
              "    <tr>\n",
              "      <th>...</th>\n",
              "      <td>...</td>\n",
              "      <td>...</td>\n",
              "      <td>...</td>\n",
              "      <td>...</td>\n",
              "      <td>...</td>\n",
              "      <td>...</td>\n",
              "      <td>...</td>\n",
              "      <td>...</td>\n",
              "      <td>...</td>\n",
              "      <td>...</td>\n",
              "      <td>...</td>\n",
              "      <td>...</td>\n",
              "    </tr>\n",
              "    <tr>\n",
              "      <th>886</th>\n",
              "      <td>887</td>\n",
              "      <td>0</td>\n",
              "      <td>2</td>\n",
              "      <td>Montvila, Rev. Juozas</td>\n",
              "      <td>male</td>\n",
              "      <td>27.0</td>\n",
              "      <td>0</td>\n",
              "      <td>0</td>\n",
              "      <td>211536</td>\n",
              "      <td>13.0000</td>\n",
              "      <td>NaN</td>\n",
              "      <td>S</td>\n",
              "    </tr>\n",
              "    <tr>\n",
              "      <th>887</th>\n",
              "      <td>888</td>\n",
              "      <td>1</td>\n",
              "      <td>1</td>\n",
              "      <td>Graham, Miss. Margaret Edith</td>\n",
              "      <td>female</td>\n",
              "      <td>19.0</td>\n",
              "      <td>0</td>\n",
              "      <td>0</td>\n",
              "      <td>112053</td>\n",
              "      <td>30.0000</td>\n",
              "      <td>B42</td>\n",
              "      <td>S</td>\n",
              "    </tr>\n",
              "    <tr>\n",
              "      <th>888</th>\n",
              "      <td>889</td>\n",
              "      <td>0</td>\n",
              "      <td>3</td>\n",
              "      <td>Johnston, Miss. Catherine Helen \"Carrie\"</td>\n",
              "      <td>female</td>\n",
              "      <td>NaN</td>\n",
              "      <td>1</td>\n",
              "      <td>2</td>\n",
              "      <td>W./C. 6607</td>\n",
              "      <td>23.4500</td>\n",
              "      <td>NaN</td>\n",
              "      <td>S</td>\n",
              "    </tr>\n",
              "    <tr>\n",
              "      <th>889</th>\n",
              "      <td>890</td>\n",
              "      <td>1</td>\n",
              "      <td>1</td>\n",
              "      <td>Behr, Mr. Karl Howell</td>\n",
              "      <td>male</td>\n",
              "      <td>26.0</td>\n",
              "      <td>0</td>\n",
              "      <td>0</td>\n",
              "      <td>111369</td>\n",
              "      <td>30.0000</td>\n",
              "      <td>C148</td>\n",
              "      <td>C</td>\n",
              "    </tr>\n",
              "    <tr>\n",
              "      <th>890</th>\n",
              "      <td>891</td>\n",
              "      <td>0</td>\n",
              "      <td>3</td>\n",
              "      <td>Dooley, Mr. Patrick</td>\n",
              "      <td>male</td>\n",
              "      <td>32.0</td>\n",
              "      <td>0</td>\n",
              "      <td>0</td>\n",
              "      <td>370376</td>\n",
              "      <td>7.7500</td>\n",
              "      <td>NaN</td>\n",
              "      <td>Q</td>\n",
              "    </tr>\n",
              "  </tbody>\n",
              "</table>\n",
              "<p>891 rows × 12 columns</p>\n",
              "</div>\n",
              "    <div class=\"colab-df-buttons\">\n",
              "\n",
              "  <div class=\"colab-df-container\">\n",
              "    <button class=\"colab-df-convert\" onclick=\"convertToInteractive('df-7b2b54ce-3e61-4ffe-a027-8021715d0a0b')\"\n",
              "            title=\"Convert this dataframe to an interactive table.\"\n",
              "            style=\"display:none;\">\n",
              "\n",
              "  <svg xmlns=\"http://www.w3.org/2000/svg\" height=\"24px\" viewBox=\"0 -960 960 960\">\n",
              "    <path d=\"M120-120v-720h720v720H120Zm60-500h600v-160H180v160Zm220 220h160v-160H400v160Zm0 220h160v-160H400v160ZM180-400h160v-160H180v160Zm440 0h160v-160H620v160ZM180-180h160v-160H180v160Zm440 0h160v-160H620v160Z\"/>\n",
              "  </svg>\n",
              "    </button>\n",
              "\n",
              "  <style>\n",
              "    .colab-df-container {\n",
              "      display:flex;\n",
              "      gap: 12px;\n",
              "    }\n",
              "\n",
              "    .colab-df-convert {\n",
              "      background-color: #E8F0FE;\n",
              "      border: none;\n",
              "      border-radius: 50%;\n",
              "      cursor: pointer;\n",
              "      display: none;\n",
              "      fill: #1967D2;\n",
              "      height: 32px;\n",
              "      padding: 0 0 0 0;\n",
              "      width: 32px;\n",
              "    }\n",
              "\n",
              "    .colab-df-convert:hover {\n",
              "      background-color: #E2EBFA;\n",
              "      box-shadow: 0px 1px 2px rgba(60, 64, 67, 0.3), 0px 1px 3px 1px rgba(60, 64, 67, 0.15);\n",
              "      fill: #174EA6;\n",
              "    }\n",
              "\n",
              "    .colab-df-buttons div {\n",
              "      margin-bottom: 4px;\n",
              "    }\n",
              "\n",
              "    [theme=dark] .colab-df-convert {\n",
              "      background-color: #3B4455;\n",
              "      fill: #D2E3FC;\n",
              "    }\n",
              "\n",
              "    [theme=dark] .colab-df-convert:hover {\n",
              "      background-color: #434B5C;\n",
              "      box-shadow: 0px 1px 3px 1px rgba(0, 0, 0, 0.15);\n",
              "      filter: drop-shadow(0px 1px 2px rgba(0, 0, 0, 0.3));\n",
              "      fill: #FFFFFF;\n",
              "    }\n",
              "  </style>\n",
              "\n",
              "    <script>\n",
              "      const buttonEl =\n",
              "        document.querySelector('#df-7b2b54ce-3e61-4ffe-a027-8021715d0a0b button.colab-df-convert');\n",
              "      buttonEl.style.display =\n",
              "        google.colab.kernel.accessAllowed ? 'block' : 'none';\n",
              "\n",
              "      async function convertToInteractive(key) {\n",
              "        const element = document.querySelector('#df-7b2b54ce-3e61-4ffe-a027-8021715d0a0b');\n",
              "        const dataTable =\n",
              "          await google.colab.kernel.invokeFunction('convertToInteractive',\n",
              "                                                    [key], {});\n",
              "        if (!dataTable) return;\n",
              "\n",
              "        const docLinkHtml = 'Like what you see? Visit the ' +\n",
              "          '<a target=\"_blank\" href=https://colab.research.google.com/notebooks/data_table.ipynb>data table notebook</a>'\n",
              "          + ' to learn more about interactive tables.';\n",
              "        element.innerHTML = '';\n",
              "        dataTable['output_type'] = 'display_data';\n",
              "        await google.colab.output.renderOutput(dataTable, element);\n",
              "        const docLink = document.createElement('div');\n",
              "        docLink.innerHTML = docLinkHtml;\n",
              "        element.appendChild(docLink);\n",
              "      }\n",
              "    </script>\n",
              "  </div>\n",
              "\n",
              "\n",
              "<div id=\"df-7855e379-19bd-4463-aba5-55bc3113fae0\">\n",
              "  <button class=\"colab-df-quickchart\" onclick=\"quickchart('df-7855e379-19bd-4463-aba5-55bc3113fae0')\"\n",
              "            title=\"Suggest charts\"\n",
              "            style=\"display:none;\">\n",
              "\n",
              "<svg xmlns=\"http://www.w3.org/2000/svg\" height=\"24px\"viewBox=\"0 0 24 24\"\n",
              "     width=\"24px\">\n",
              "    <g>\n",
              "        <path d=\"M19 3H5c-1.1 0-2 .9-2 2v14c0 1.1.9 2 2 2h14c1.1 0 2-.9 2-2V5c0-1.1-.9-2-2-2zM9 17H7v-7h2v7zm4 0h-2V7h2v10zm4 0h-2v-4h2v4z\"/>\n",
              "    </g>\n",
              "</svg>\n",
              "  </button>\n",
              "\n",
              "<style>\n",
              "  .colab-df-quickchart {\n",
              "      --bg-color: #E8F0FE;\n",
              "      --fill-color: #1967D2;\n",
              "      --hover-bg-color: #E2EBFA;\n",
              "      --hover-fill-color: #174EA6;\n",
              "      --disabled-fill-color: #AAA;\n",
              "      --disabled-bg-color: #DDD;\n",
              "  }\n",
              "\n",
              "  [theme=dark] .colab-df-quickchart {\n",
              "      --bg-color: #3B4455;\n",
              "      --fill-color: #D2E3FC;\n",
              "      --hover-bg-color: #434B5C;\n",
              "      --hover-fill-color: #FFFFFF;\n",
              "      --disabled-bg-color: #3B4455;\n",
              "      --disabled-fill-color: #666;\n",
              "  }\n",
              "\n",
              "  .colab-df-quickchart {\n",
              "    background-color: var(--bg-color);\n",
              "    border: none;\n",
              "    border-radius: 50%;\n",
              "    cursor: pointer;\n",
              "    display: none;\n",
              "    fill: var(--fill-color);\n",
              "    height: 32px;\n",
              "    padding: 0;\n",
              "    width: 32px;\n",
              "  }\n",
              "\n",
              "  .colab-df-quickchart:hover {\n",
              "    background-color: var(--hover-bg-color);\n",
              "    box-shadow: 0 1px 2px rgba(60, 64, 67, 0.3), 0 1px 3px 1px rgba(60, 64, 67, 0.15);\n",
              "    fill: var(--button-hover-fill-color);\n",
              "  }\n",
              "\n",
              "  .colab-df-quickchart-complete:disabled,\n",
              "  .colab-df-quickchart-complete:disabled:hover {\n",
              "    background-color: var(--disabled-bg-color);\n",
              "    fill: var(--disabled-fill-color);\n",
              "    box-shadow: none;\n",
              "  }\n",
              "\n",
              "  .colab-df-spinner {\n",
              "    border: 2px solid var(--fill-color);\n",
              "    border-color: transparent;\n",
              "    border-bottom-color: var(--fill-color);\n",
              "    animation:\n",
              "      spin 1s steps(1) infinite;\n",
              "  }\n",
              "\n",
              "  @keyframes spin {\n",
              "    0% {\n",
              "      border-color: transparent;\n",
              "      border-bottom-color: var(--fill-color);\n",
              "      border-left-color: var(--fill-color);\n",
              "    }\n",
              "    20% {\n",
              "      border-color: transparent;\n",
              "      border-left-color: var(--fill-color);\n",
              "      border-top-color: var(--fill-color);\n",
              "    }\n",
              "    30% {\n",
              "      border-color: transparent;\n",
              "      border-left-color: var(--fill-color);\n",
              "      border-top-color: var(--fill-color);\n",
              "      border-right-color: var(--fill-color);\n",
              "    }\n",
              "    40% {\n",
              "      border-color: transparent;\n",
              "      border-right-color: var(--fill-color);\n",
              "      border-top-color: var(--fill-color);\n",
              "    }\n",
              "    60% {\n",
              "      border-color: transparent;\n",
              "      border-right-color: var(--fill-color);\n",
              "    }\n",
              "    80% {\n",
              "      border-color: transparent;\n",
              "      border-right-color: var(--fill-color);\n",
              "      border-bottom-color: var(--fill-color);\n",
              "    }\n",
              "    90% {\n",
              "      border-color: transparent;\n",
              "      border-bottom-color: var(--fill-color);\n",
              "    }\n",
              "  }\n",
              "</style>\n",
              "\n",
              "  <script>\n",
              "    async function quickchart(key) {\n",
              "      const quickchartButtonEl =\n",
              "        document.querySelector('#' + key + ' button');\n",
              "      quickchartButtonEl.disabled = true;  // To prevent multiple clicks.\n",
              "      quickchartButtonEl.classList.add('colab-df-spinner');\n",
              "      try {\n",
              "        const charts = await google.colab.kernel.invokeFunction(\n",
              "            'suggestCharts', [key], {});\n",
              "      } catch (error) {\n",
              "        console.error('Error during call to suggestCharts:', error);\n",
              "      }\n",
              "      quickchartButtonEl.classList.remove('colab-df-spinner');\n",
              "      quickchartButtonEl.classList.add('colab-df-quickchart-complete');\n",
              "    }\n",
              "    (() => {\n",
              "      let quickchartButtonEl =\n",
              "        document.querySelector('#df-7855e379-19bd-4463-aba5-55bc3113fae0 button');\n",
              "      quickchartButtonEl.style.display =\n",
              "        google.colab.kernel.accessAllowed ? 'block' : 'none';\n",
              "    })();\n",
              "  </script>\n",
              "</div>\n",
              "    </div>\n",
              "  </div>\n"
            ]
          },
          "metadata": {},
          "execution_count": 3
        }
      ],
      "source": [
        "import pandas as pd\n",
        "data = pd.read_csv('/content/train.csv')\n",
        "data"
      ]
    },
    {
      "cell_type": "code",
      "source": [
        "# Verificando os tipos de dados\n",
        "data.dtypes"
      ],
      "metadata": {
        "colab": {
          "base_uri": "https://localhost:8080/"
        },
        "id": "-1mtdQjJHjeT",
        "outputId": "b7171b12-6df8-4ce6-f257-cafe92edbccc"
      },
      "execution_count": 4,
      "outputs": [
        {
          "output_type": "execute_result",
          "data": {
            "text/plain": [
              "PassengerId      int64\n",
              "Survived         int64\n",
              "Pclass           int64\n",
              "Name            object\n",
              "Sex             object\n",
              "Age            float64\n",
              "SibSp            int64\n",
              "Parch            int64\n",
              "Ticket          object\n",
              "Fare           float64\n",
              "Cabin           object\n",
              "Embarked        object\n",
              "dtype: object"
            ]
          },
          "metadata": {},
          "execution_count": 4
        }
      ]
    },
    {
      "cell_type": "code",
      "source": [
        "# Retiramos a coluna que queremos predizer\n",
        "\n",
        "y = data['Survived']\n",
        "y"
      ],
      "metadata": {
        "colab": {
          "base_uri": "https://localhost:8080/"
        },
        "id": "Hnkp6gtnrygK",
        "outputId": "496d0f2b-dc2f-4a60-b0d3-dab970427d6c"
      },
      "execution_count": 5,
      "outputs": [
        {
          "output_type": "execute_result",
          "data": {
            "text/plain": [
              "0      0\n",
              "1      1\n",
              "2      1\n",
              "3      1\n",
              "4      0\n",
              "      ..\n",
              "886    0\n",
              "887    1\n",
              "888    0\n",
              "889    1\n",
              "890    0\n",
              "Name: Survived, Length: 891, dtype: int64"
            ]
          },
          "metadata": {},
          "execution_count": 5
        }
      ]
    },
    {
      "cell_type": "code",
      "source": [
        "# Não vamos utilizar o data inteirno vamos retirar a coluna 'Survived'\n",
        "\n",
        "X = data.drop('Survived', axis=1)\n",
        "X.columns"
      ],
      "metadata": {
        "colab": {
          "base_uri": "https://localhost:8080/"
        },
        "id": "lo4si3dMIOiW",
        "outputId": "e9be2b5d-b25a-4819-f6f3-8051b8cb1d09"
      },
      "execution_count": 6,
      "outputs": [
        {
          "output_type": "execute_result",
          "data": {
            "text/plain": [
              "Index(['PassengerId', 'Pclass', 'Name', 'Sex', 'Age', 'SibSp', 'Parch',\n",
              "       'Ticket', 'Fare', 'Cabin', 'Embarked'],\n",
              "      dtype='object')"
            ]
          },
          "metadata": {},
          "execution_count": 6
        }
      ]
    },
    {
      "cell_type": "code",
      "source": [
        "# Vendo quantos elementos repetidos existem nas colunas\n",
        "\n",
        "for column in X.columns:\n",
        "  print(f\"{column:>12} {len(set(X[column])):4} {X[column].dtypes}\")"
      ],
      "metadata": {
        "colab": {
          "base_uri": "https://localhost:8080/"
        },
        "id": "r5iVDesYKZLr",
        "outputId": "ffee90a6-972e-470b-facd-cd8f3b2694ee"
      },
      "execution_count": 7,
      "outputs": [
        {
          "output_type": "stream",
          "name": "stdout",
          "text": [
            " PassengerId  891 int64\n",
            "      Pclass    3 int64\n",
            "        Name  891 object\n",
            "         Sex    2 object\n",
            "         Age  265 float64\n",
            "       SibSp    7 int64\n",
            "       Parch    7 int64\n",
            "      Ticket  681 object\n",
            "        Fare  248 float64\n",
            "       Cabin  148 object\n",
            "    Embarked    4 object\n"
          ]
        }
      ]
    },
    {
      "cell_type": "markdown",
      "source": [
        "Observa-se que existem várias idades\n",
        "Quando a quantidade de característica é maior do que um terço da quantidade de exemplo a gente começa a perder um pouco\n",
        "Para simplificação de exemplo do tutorial iremos eliminar algumas das características iremos trabalhar com outras"
      ],
      "metadata": {
        "id": "_m0srIIiLzaS"
      }
    },
    {
      "cell_type": "code",
      "source": [
        "# Retirando características indesejadas\n",
        "\n",
        "indesejadas = ['PassengerId','Name','Ticket','Cabin']\n",
        "Xdrop = X.drop(indesejadas, axis=1)\n",
        "Xdrop.columns"
      ],
      "metadata": {
        "colab": {
          "base_uri": "https://localhost:8080/"
        },
        "id": "ATqgovBAs0ox",
        "outputId": "2f482cc6-4a41-42d0-a7e1-7619b08a681e"
      },
      "execution_count": 8,
      "outputs": [
        {
          "output_type": "execute_result",
          "data": {
            "text/plain": [
              "Index(['Pclass', 'Sex', 'Age', 'SibSp', 'Parch', 'Fare', 'Embarked'], dtype='object')"
            ]
          },
          "metadata": {},
          "execution_count": 8
        }
      ]
    },
    {
      "cell_type": "code",
      "source": [
        "# Levantando as características numéricas\n",
        "\n",
        "Xnum = Xdrop.select_dtypes('number')\n",
        "Xnum.columns"
      ],
      "metadata": {
        "colab": {
          "base_uri": "https://localhost:8080/"
        },
        "id": "LDozHDLUuID6",
        "outputId": "bae202df-7606-45e6-91b6-1170ee645e36"
      },
      "execution_count": 9,
      "outputs": [
        {
          "output_type": "execute_result",
          "data": {
            "text/plain": [
              "Index(['Pclass', 'Age', 'SibSp', 'Parch', 'Fare'], dtype='object')"
            ]
          },
          "metadata": {},
          "execution_count": 9
        }
      ]
    },
    {
      "cell_type": "code",
      "source": [
        "# Levantando as características nulas\n",
        "\n",
        "for column in Xnum.columns:\n",
        "   print(f\"{column:>12} {sum(Xnum[column].isnull())}\")"
      ],
      "metadata": {
        "colab": {
          "base_uri": "https://localhost:8080/"
        },
        "id": "1vzlgo6JtNxi",
        "outputId": "4a12447f-a6ca-49cd-c634-5d60527de3d9"
      },
      "execution_count": 10,
      "outputs": [
        {
          "output_type": "stream",
          "name": "stdout",
          "text": [
            "      Pclass 0\n",
            "         Age 177\n",
            "       SibSp 0\n",
            "       Parch 0\n",
            "        Fare 0\n"
          ]
        }
      ]
    },
    {
      "cell_type": "markdown",
      "source": [
        "Observa-se que existem 177 idades nulas"
      ],
      "metadata": {
        "id": "ZMgvFcTuSuix"
      }
    },
    {
      "cell_type": "code",
      "source": [
        "from sklearn.impute import SimpleImputer\n",
        "imputer = SimpleImputer(strategy='median')\n",
        "XnumLimpo = imputer.fit_transform(Xnum)\n",
        "XnumLimpo"
      ],
      "metadata": {
        "colab": {
          "base_uri": "https://localhost:8080/"
        },
        "id": "Ft2IiwWrvR5K",
        "outputId": "7303dbc4-2865-44de-b43d-51bbc72ae4f1"
      },
      "execution_count": 11,
      "outputs": [
        {
          "output_type": "execute_result",
          "data": {
            "text/plain": [
              "array([[ 3.    , 22.    ,  1.    ,  0.    ,  7.25  ],\n",
              "       [ 1.    , 38.    ,  1.    ,  0.    , 71.2833],\n",
              "       [ 3.    , 26.    ,  0.    ,  0.    ,  7.925 ],\n",
              "       ...,\n",
              "       [ 3.    , 28.    ,  1.    ,  2.    , 23.45  ],\n",
              "       [ 1.    , 26.    ,  0.    ,  0.    , 30.    ],\n",
              "       [ 3.    , 32.    ,  0.    ,  0.    ,  7.75  ]])"
            ]
          },
          "metadata": {},
          "execution_count": 11
        }
      ]
    },
    {
      "cell_type": "markdown",
      "source": [
        "A estratégia padrão é a média estamos usando a mediana\n",
        "\n",
        "imputer.fit_tranform - Pega uma entrada de dados qualquer e transforma em uma que é aceita no caso vai pegar a idade que é vazia e vai colocar a mediana"
      ],
      "metadata": {
        "id": "AkID6cDpgGtL"
      }
    },
    {
      "cell_type": "code",
      "source": [
        "# Tratamento dos atributos categóricos\n",
        "\n",
        "Xcat = Xdrop.select_dtypes('object')\n",
        "Xcat.columns"
      ],
      "metadata": {
        "colab": {
          "base_uri": "https://localhost:8080/"
        },
        "id": "b3lFJopJwVAh",
        "outputId": "a8171d4b-60c3-4a08-a1b5-1237df7f0126"
      },
      "execution_count": 12,
      "outputs": [
        {
          "output_type": "execute_result",
          "data": {
            "text/plain": [
              "Index(['Sex', 'Embarked'], dtype='object')"
            ]
          },
          "metadata": {},
          "execution_count": 12
        }
      ]
    },
    {
      "cell_type": "code",
      "source": [
        "for column in Xcat.columns:\n",
        "   print(f\"{column:>12} {sum(Xcat[column].isnull())}\")"
      ],
      "metadata": {
        "id": "NxBNB8-sw-pK",
        "colab": {
          "base_uri": "https://localhost:8080/"
        },
        "outputId": "4b0185ea-a090-4616-d08c-de4da9b07c87"
      },
      "execution_count": 13,
      "outputs": [
        {
          "output_type": "stream",
          "name": "stdout",
          "text": [
            "         Sex 0\n",
            "    Embarked 2\n"
          ]
        }
      ]
    },
    {
      "cell_type": "markdown",
      "source": [
        "Precisamos tratar os dois casos do Embarked para o algoritimo não parar"
      ],
      "metadata": {
        "id": "Hgo0gMLthFas"
      }
    },
    {
      "cell_type": "code",
      "source": [
        "from sklearn.impute import SimpleImputer\n",
        "imputer = SimpleImputer(strategy='most_frequent')\n",
        "XcatLimpo = imputer.fit_transform(Xcat)\n",
        "XcatLimpo"
      ],
      "metadata": {
        "colab": {
          "base_uri": "https://localhost:8080/"
        },
        "id": "jzHurKL_hcqF",
        "outputId": "80e0cd91-838d-405e-e7de-7ab30590eb19"
      },
      "execution_count": 14,
      "outputs": [
        {
          "output_type": "execute_result",
          "data": {
            "text/plain": [
              "array([['male', 'S'],\n",
              "       ['female', 'C'],\n",
              "       ['female', 'S'],\n",
              "       ...,\n",
              "       ['female', 'S'],\n",
              "       ['male', 'C'],\n",
              "       ['male', 'Q']], dtype=object)"
            ]
          },
          "metadata": {},
          "execution_count": 14
        }
      ]
    },
    {
      "cell_type": "markdown",
      "source": [
        "Outro problema, a maior parte dos classificadores que for tentar treinar eles não vão aceitar diretamente essas características categóricas.\n",
        "Precisamos transformar as categorias para numéricas.\n",
        "Vamos utilizar o ordinal encoder que vai colocar um número para cada situação aqui na sequência."
      ],
      "metadata": {
        "id": "PBzpE_2Ih9PQ"
      }
    },
    {
      "cell_type": "code",
      "source": [
        "from sklearn.preprocessing import OneHotEncoder\n",
        "encoder = OneHotEncoder()\n",
        "XcatHot = encoder.fit_transform(XcatLimpo)\n",
        "XcatHot.toarray()"
      ],
      "metadata": {
        "colab": {
          "base_uri": "https://localhost:8080/"
        },
        "id": "WgTYaOY9iHwH",
        "outputId": "8343e8bc-b7f3-4318-ce5d-c79eaf8ac467"
      },
      "execution_count": 15,
      "outputs": [
        {
          "output_type": "execute_result",
          "data": {
            "text/plain": [
              "array([[0., 1., 0., 0., 1.],\n",
              "       [1., 0., 1., 0., 0.],\n",
              "       [1., 0., 0., 0., 1.],\n",
              "       ...,\n",
              "       [1., 0., 0., 0., 1.],\n",
              "       [0., 1., 1., 0., 0.],\n",
              "       [0., 1., 0., 1., 0.]])"
            ]
          },
          "metadata": {},
          "execution_count": 15
        }
      ]
    },
    {
      "cell_type": "code",
      "source": [
        "import numpy as np\n",
        "Xtratado = np.c_[XnumLimpo, XcatHot.toarray()]\n",
        "Xtratado.shape"
      ],
      "metadata": {
        "colab": {
          "base_uri": "https://localhost:8080/"
        },
        "id": "fKg6Vbhfj3BR",
        "outputId": "ee1ba408-9605-4941-e0e1-b2a11d5ca60a"
      },
      "execution_count": 16,
      "outputs": [
        {
          "output_type": "execute_result",
          "data": {
            "text/plain": [
              "(891, 10)"
            ]
          },
          "metadata": {},
          "execution_count": 16
        }
      ]
    },
    {
      "cell_type": "code",
      "source": [
        "Xtratado"
      ],
      "metadata": {
        "colab": {
          "base_uri": "https://localhost:8080/"
        },
        "id": "3pTAJvQOky_5",
        "outputId": "c1ee59f5-e49e-4bb0-fd3c-7c6b4856e45c"
      },
      "execution_count": 17,
      "outputs": [
        {
          "output_type": "execute_result",
          "data": {
            "text/plain": [
              "array([[ 3., 22.,  1., ...,  0.,  0.,  1.],\n",
              "       [ 1., 38.,  1., ...,  1.,  0.,  0.],\n",
              "       [ 3., 26.,  0., ...,  0.,  0.,  1.],\n",
              "       ...,\n",
              "       [ 3., 28.,  1., ...,  0.,  0.,  1.],\n",
              "       [ 1., 26.,  0., ...,  1.,  0.,  0.],\n",
              "       [ 3., 32.,  0., ...,  0.,  1.,  0.]])"
            ]
          },
          "metadata": {},
          "execution_count": 17
        }
      ]
    },
    {
      "cell_type": "code",
      "source": [
        "import pandas as pd\n",
        "\n",
        "# Verificando o que está no treino e está no teste ao mesmo tempo\n",
        "\n",
        "train = pd.read_csv('/content/train.csv')\n",
        "test = pd.read_csv('/content/test.csv')\n",
        "train.columns.isin(test.columns)"
      ],
      "metadata": {
        "colab": {
          "base_uri": "https://localhost:8080/"
        },
        "id": "FxwXJAbAk1_R",
        "outputId": "adf9f8b5-fa19-4334-a818-045ab629ac21"
      },
      "execution_count": 18,
      "outputs": [
        {
          "output_type": "execute_result",
          "data": {
            "text/plain": [
              "array([ True, False,  True,  True,  True,  True,  True,  True,  True,\n",
              "        True,  True,  True])"
            ]
          },
          "metadata": {},
          "execution_count": 18
        }
      ]
    },
    {
      "cell_type": "markdown",
      "source": [
        "Observa-se que a segunda coluna não consta nas duas bases de dados"
      ],
      "metadata": {
        "id": "L0csIdz3lgJ7"
      }
    },
    {
      "cell_type": "code",
      "source": [
        "# Verificando qual é a coluna que tem no treino e não tem no teste\n",
        "\n",
        "train.columns[~train.columns.isin(test.columns)]"
      ],
      "metadata": {
        "colab": {
          "base_uri": "https://localhost:8080/"
        },
        "id": "ySRbklJFlWKL",
        "outputId": "604bc221-f9db-430a-eff3-9c32fe70f6fd"
      },
      "execution_count": 19,
      "outputs": [
        {
          "output_type": "execute_result",
          "data": {
            "text/plain": [
              "Index(['Survived'], dtype='object')"
            ]
          },
          "metadata": {},
          "execution_count": 19
        }
      ]
    },
    {
      "cell_type": "code",
      "source": [
        "# Começando um pipeline\n",
        "# Começar a organizar o dataset de forma que quando chegar um dado novo cru ele vai treinar tudo de novo\n",
        "\n",
        "from sklearn.base import BaseEstimator, TransformerMixin\n",
        "\n",
        "# Criando uma classe para tratar os dados da base\n",
        "class AtributosDesejados(BaseEstimator, TransformerMixin):\n",
        "  def fit(self, X, y=None):\n",
        "    self.colunasIndesejadas_ = ['PassengerId','Name','Ticket','Cabin']\n",
        "    return self\n",
        "\n",
        "  def transform(self, X, y=None):\n",
        "    return X.drop(self.colunasIndesejadas_, axis=1)\n",
        "\n",
        "atributosDesejados = AtributosDesejados()\n",
        "Xdrop = atributosDesejados.fit_transform(X)\n",
        "Xdrop.columns\n"
      ],
      "metadata": {
        "colab": {
          "base_uri": "https://localhost:8080/"
        },
        "id": "UElwBxTBmbxS",
        "outputId": "616ec941-6c1f-4540-d162-329b2f48e7f9"
      },
      "execution_count": 20,
      "outputs": [
        {
          "output_type": "execute_result",
          "data": {
            "text/plain": [
              "Index(['Pclass', 'Sex', 'Age', 'SibSp', 'Parch', 'Fare', 'Embarked'], dtype='object')"
            ]
          },
          "metadata": {},
          "execution_count": 20
        }
      ]
    },
    {
      "cell_type": "markdown",
      "source": [
        "Observe que usamos o fit_transform mas não foi implementado. O TransformerMixin já possui implementado, se tiver o transform implementado ele chama o sequência do outro."
      ],
      "metadata": {
        "id": "B2CWVGjCpZke"
      }
    },
    {
      "cell_type": "code",
      "source": [
        "# Vamos separar o que é categórico de numérico\n",
        "\n",
        "from sklearn.base import BaseEstimator, TransformerMixin\n",
        "\n",
        "class AtributosNumericos(BaseEstimator, TransformerMixin):\n",
        "  def fit(self, X, y=None):\n",
        "    self.colunasNumericas_ = X.select_dtypes('number').columns\n",
        "    return self\n",
        "  def transform(self, X, y=None):\n",
        "    return X[self.colunasNumericas_]\n",
        "\n",
        "atributosNumericos = AtributosNumericos()\n",
        "XNum = atributosNumericos.fit_transform(Xdrop)\n",
        "XNum.columns"
      ],
      "metadata": {
        "colab": {
          "base_uri": "https://localhost:8080/"
        },
        "id": "GFTmL8vSqMgj",
        "outputId": "3c08c4a4-4cbc-4509-beef-4157222fde8c"
      },
      "execution_count": 21,
      "outputs": [
        {
          "output_type": "execute_result",
          "data": {
            "text/plain": [
              "Index(['Pclass', 'Age', 'SibSp', 'Parch', 'Fare'], dtype='object')"
            ]
          },
          "metadata": {},
          "execution_count": 21
        }
      ]
    },
    {
      "cell_type": "code",
      "source": [
        "# Pipeline\n",
        "\n",
        "from sklearn.pipeline import Pipeline\n",
        "from sklearn.impute import SimpleImputer\n",
        "from sklearn.preprocessing import StandardScaler\n",
        "\n",
        "pipenum = Pipeline([\n",
        "        ('atributos_numericos', AtributosNumericos()),\n",
        "        ('imputer', SimpleImputer(strategy='median')),\n",
        "        ('scaler', StandardScaler())\n",
        "    ])\n",
        "\n",
        "XnumLimpo = pipenum.fit_transform(Xdrop)\n",
        "XnumLimpo"
      ],
      "metadata": {
        "colab": {
          "base_uri": "https://localhost:8080/"
        },
        "id": "lxbIQdu71NI6",
        "outputId": "8676ac30-9d53-4a91-e8f4-d81351492b41"
      },
      "execution_count": 22,
      "outputs": [
        {
          "output_type": "execute_result",
          "data": {
            "text/plain": [
              "array([[ 0.82737724, -0.56573646,  0.43279337, -0.47367361, -0.50244517],\n",
              "       [-1.56610693,  0.66386103,  0.43279337, -0.47367361,  0.78684529],\n",
              "       [ 0.82737724, -0.25833709, -0.4745452 , -0.47367361, -0.48885426],\n",
              "       ...,\n",
              "       [ 0.82737724, -0.1046374 ,  0.43279337,  2.00893337, -0.17626324],\n",
              "       [-1.56610693, -0.25833709, -0.4745452 , -0.47367361, -0.04438104],\n",
              "       [ 0.82737724,  0.20276197, -0.4745452 , -0.47367361, -0.49237783]])"
            ]
          },
          "metadata": {},
          "execution_count": 22
        }
      ]
    },
    {
      "cell_type": "markdown",
      "source": [
        "Agora ele já pega direto do drop e passa para o limpo não passa pelo xnum que faz lá dentro"
      ],
      "metadata": {
        "id": "Nk3Etu_lrYTb"
      }
    },
    {
      "cell_type": "code",
      "source": [
        "from sklearn.base import BaseEstimator, TransformerMixin\n",
        "\n",
        "class AtributosCategoricos(BaseEstimator, TransformerMixin):\n",
        "  def fit(self, X, y=None):\n",
        "    self.colunasCategoricas = X.select_dtypes(include='object').columns\n",
        "    return self\n",
        "  def transform(self, X, y=None):\n",
        "    return X[self.colunasCategoricas]\n",
        "\n",
        "atributosCategoricos = AtributosCategoricos()\n",
        "Xcat = atributosCategoricos.fit_transform(Xdrop)\n",
        "Xcat.columns"
      ],
      "metadata": {
        "colab": {
          "base_uri": "https://localhost:8080/"
        },
        "id": "wCbUXtAx4HXA",
        "outputId": "57f07172-e8cf-434f-cab5-cf65be2ba3a7"
      },
      "execution_count": 23,
      "outputs": [
        {
          "output_type": "execute_result",
          "data": {
            "text/plain": [
              "Index(['Sex', 'Embarked'], dtype='object')"
            ]
          },
          "metadata": {},
          "execution_count": 23
        }
      ]
    },
    {
      "cell_type": "code",
      "source": [
        "# Pipeline\n",
        "\n",
        "from sklearn.pipeline import Pipeline\n",
        "from sklearn.impute import SimpleImputer\n",
        "from sklearn.preprocessing import OneHotEncoder\n",
        "\n",
        "pipecat = Pipeline([\n",
        "        ('atributos_categoricos', AtributosCategoricos()),\n",
        "        ('imputer', SimpleImputer(strategy='most_frequent')),\n",
        "        ('encoder', OneHotEncoder())\n",
        "    ])\n",
        "\n",
        "XcatLimpo = pipecat.fit_transform(Xdrop)\n",
        "XcatLimpo.toarray()"
      ],
      "metadata": {
        "colab": {
          "base_uri": "https://localhost:8080/"
        },
        "id": "C0tD1y4F5c5m",
        "outputId": "444053dd-3a7e-486f-8907-6403f753cd6a"
      },
      "execution_count": 24,
      "outputs": [
        {
          "output_type": "execute_result",
          "data": {
            "text/plain": [
              "array([[0., 1., 0., 0., 1.],\n",
              "       [1., 0., 1., 0., 0.],\n",
              "       [1., 0., 0., 0., 1.],\n",
              "       ...,\n",
              "       [1., 0., 0., 0., 1.],\n",
              "       [0., 1., 1., 0., 0.],\n",
              "       [0., 1., 0., 1., 0.]])"
            ]
          },
          "metadata": {},
          "execution_count": 24
        }
      ]
    },
    {
      "cell_type": "markdown",
      "source": [
        "Temos dois datasets separados, um dos categórico e outro dos numérico.\n",
        "Temos que junta isso tudo de novo para mandar uma matriz só para o treinar o classificador"
      ],
      "metadata": {
        "id": "o0pQveUP6SGI"
      }
    },
    {
      "cell_type": "code",
      "source": [
        "# Consegue colocar os dois pipelines funcionando como um se fosse um só\n",
        "from sklearn.pipeline import FeatureUnion\n",
        "\n",
        "unecaracteristicas = FeatureUnion([\n",
        "        ('pipenum', pipenum),\n",
        "        ('pipecat', pipecat),\n",
        "])\n",
        "\n",
        "Xtratado = unecaracteristicas.fit_transform(Xdrop)\n",
        "Xtratado.toarray()"
      ],
      "metadata": {
        "colab": {
          "base_uri": "https://localhost:8080/"
        },
        "id": "aeB0NDZP6P8Q",
        "outputId": "85da02d5-1123-4e33-c6bb-83d70a6ba93e"
      },
      "execution_count": 25,
      "outputs": [
        {
          "output_type": "execute_result",
          "data": {
            "text/plain": [
              "array([[ 0.82737724, -0.56573646,  0.43279337, ...,  0.        ,\n",
              "         0.        ,  1.        ],\n",
              "       [-1.56610693,  0.66386103,  0.43279337, ...,  1.        ,\n",
              "         0.        ,  0.        ],\n",
              "       [ 0.82737724, -0.25833709, -0.4745452 , ...,  0.        ,\n",
              "         0.        ,  1.        ],\n",
              "       ...,\n",
              "       [ 0.82737724, -0.1046374 ,  0.43279337, ...,  0.        ,\n",
              "         0.        ,  1.        ],\n",
              "       [-1.56610693, -0.25833709, -0.4745452 , ...,  1.        ,\n",
              "         0.        ,  0.        ],\n",
              "       [ 0.82737724,  0.20276197, -0.4745452 , ...,  0.        ,\n",
              "         1.        ,  0.        ]])"
            ]
          },
          "metadata": {},
          "execution_count": 25
        }
      ]
    },
    {
      "cell_type": "code",
      "source": [
        "# Gerando um pipeline de todo o processamento, desde unir as características até unir as características de novo\n",
        "# De forma que mandasse os dados crus e ele entregasse os dados tratados\n",
        "\n",
        "from sklearn.pipeline import Pipeline\n",
        "\n",
        "preproc = Pipeline([\n",
        "        ('atributos_desejados', AtributosDesejados()),\n",
        "        ('unecaracteristicas', unecaracteristicas)\n",
        "])\n",
        "\n",
        "Xtratado = preproc.fit_transform(X)\n",
        "Xtratado.toarray()"
      ],
      "metadata": {
        "colab": {
          "base_uri": "https://localhost:8080/"
        },
        "id": "-QeHVgCh7tyl",
        "outputId": "692e3636-9503-4248-9e72-d7547fb45aea"
      },
      "execution_count": 26,
      "outputs": [
        {
          "output_type": "execute_result",
          "data": {
            "text/plain": [
              "array([[ 0.82737724, -0.56573646,  0.43279337, ...,  0.        ,\n",
              "         0.        ,  1.        ],\n",
              "       [-1.56610693,  0.66386103,  0.43279337, ...,  1.        ,\n",
              "         0.        ,  0.        ],\n",
              "       [ 0.82737724, -0.25833709, -0.4745452 , ...,  0.        ,\n",
              "         0.        ,  1.        ],\n",
              "       ...,\n",
              "       [ 0.82737724, -0.1046374 ,  0.43279337, ...,  0.        ,\n",
              "         0.        ,  1.        ],\n",
              "       [-1.56610693, -0.25833709, -0.4745452 , ...,  1.        ,\n",
              "         0.        ,  0.        ],\n",
              "       [ 0.82737724,  0.20276197, -0.4745452 , ...,  0.        ,\n",
              "         1.        ,  0.        ]])"
            ]
          },
          "metadata": {},
          "execution_count": 26
        }
      ]
    },
    {
      "cell_type": "markdown",
      "source": [
        "Até o momento só conseguimos tratar, não conseguimos classificar.\n",
        "Vamos gerar um pipeline total que vai ser capaz de pegar o dado cru e entregar uma resposta."
      ],
      "metadata": {
        "id": "uSb9XmG09HDB"
      }
    },
    {
      "cell_type": "code",
      "source": [
        "from sklearn.tree import DecisionTreeClassifier\n",
        "from sklearn.metrics import accuracy_score\n",
        "\n",
        "pipetotal = Pipeline([\n",
        "        ('preproc', preproc),\n",
        "        ('arvore', DecisionTreeClassifier())\n",
        "])\n",
        "\n",
        "pipetotal.fit(X,y)\n",
        "ypred = pipetotal.predict(X)\n",
        "accuracy = accuracy_score(y, ypred)\n",
        "\n",
        "print(f\"Acurácia do modelo: {accuracy:.2f}\")"
      ],
      "metadata": {
        "colab": {
          "base_uri": "https://localhost:8080/"
        },
        "id": "vXPJcIVt9cia",
        "outputId": "3d8669fa-334e-46bc-a21b-3e620d3934d4"
      },
      "execution_count": 27,
      "outputs": [
        {
          "output_type": "stream",
          "name": "stdout",
          "text": [
            "Acurácia do modelo: 0.98\n"
          ]
        }
      ]
    },
    {
      "cell_type": "markdown",
      "source": [
        "O resultado deu muito alto mais isso é uma resubstituição. Se a gente quiser verificar realmente se isso está trazendo um resultado interessante teremos que rodar uma validação cruzada.\n",
        "Só vamos mandar para o teste quando souber que está legal no treinamento.\n",
        "Se eu fico treinando, ajustando as coisas e testando eu vou gerar um overfitting no teste, coisas novas que chegarem não saberemos se vai ser bom ou não."
      ],
      "metadata": {
        "id": "pd6HFh9T_EPw"
      }
    },
    {
      "cell_type": "code",
      "source": [
        "import numpy as np\n",
        "from sklearn.model_selection import cross_validate\n",
        "\n",
        "scores = cross_validate(pipetotal, X, y)\n",
        "scores, np.mean(scores['test_score'])"
      ],
      "metadata": {
        "colab": {
          "base_uri": "https://localhost:8080/"
        },
        "id": "_0T8LvOF_gmN",
        "outputId": "e6192e46-34ca-4e8d-f373-3a01cf3ea2d5"
      },
      "execution_count": 28,
      "outputs": [
        {
          "output_type": "execute_result",
          "data": {
            "text/plain": [
              "({'fit_time': array([0.02633643, 0.01820922, 0.01743102, 0.01541281, 0.02168274]),\n",
              "  'score_time': array([0.0066936 , 0.00836968, 0.02538896, 0.00630593, 0.01660895]),\n",
              "  'test_score': array([0.72625698, 0.78651685, 0.80898876, 0.73033708, 0.80898876])},\n",
              " 0.7722176887828762)"
            ]
          },
          "metadata": {},
          "execution_count": 28
        }
      ]
    },
    {
      "cell_type": "markdown",
      "source": [
        "Como melhorar o resultado?\n",
        "Podemos tentar ajustar as características ou o classificador. Se tentar ajustar olhando para o teste o tempo todo, vai dar problema.\n",
        "Vamos gerar um exemplo de como obter esses parâmetros de forma automática."
      ],
      "metadata": {
        "id": "Zi39QfJIGbmg"
      }
    },
    {
      "cell_type": "code",
      "source": [
        "from sklearn.model_selection import GridSearchCV\n",
        "\n",
        "parametros = {\n",
        "    'arvore__max_depth': [None] + list(range(1,10,2))       #  variando de 1 até 10 de 2 em 2\n",
        "}\n",
        "\n",
        "modelo = GridSearchCV(pipetotal, param_grid=parametros)\n",
        "scores = cross_validate(modelo , X, y)\n",
        "scores, np.mean(scores['test_score'])"
      ],
      "metadata": {
        "colab": {
          "base_uri": "https://localhost:8080/"
        },
        "id": "FM2niQY9GVWN",
        "outputId": "bf7db183-cbb7-45b9-da78-cf23e2ebfdec"
      },
      "execution_count": 29,
      "outputs": [
        {
          "output_type": "execute_result",
          "data": {
            "text/plain": [
              "({'fit_time': array([0.44970632, 0.45168018, 0.44017124, 0.45609856, 0.44784379]),\n",
              "  'score_time': array([0.00436425, 0.00419927, 0.00452185, 0.00408435, 0.00452495]),\n",
              "  'test_score': array([0.81564246, 0.81460674, 0.81460674, 0.78089888, 0.85393258])},\n",
              " 0.8159374803841567)"
            ]
          },
          "metadata": {},
          "execution_count": 29
        }
      ]
    },
    {
      "cell_type": "markdown",
      "source": [
        "Fez uma validação cruzada, aninhada para cada um dos parâmetros.\n",
        "\n",
        "Melhorou bastante de **0.78** foi para **0.81**."
      ],
      "metadata": {
        "id": "GCQFLPwYJMQJ"
      }
    },
    {
      "cell_type": "code",
      "source": [
        "from sklearn.model_selection import GridSearchCV\n",
        "\n",
        "parametros = {\n",
        "    'arvore__max_depth': [None, 1, 3, 5, 7, 9],\n",
        "    'preproc__unecaracteristicas__pipenum__imputer__strategy': ['mean', 'median', 'most_frequent']\n",
        "}\n",
        "\n",
        "modelo = GridSearchCV(pipetotal, param_grid=parametros)\n",
        "scores = cross_validate(modelo , X, y)\n",
        "scores, np.mean(scores['test_score'])"
      ],
      "metadata": {
        "colab": {
          "base_uri": "https://localhost:8080/"
        },
        "id": "HUhta7-pLTu-",
        "outputId": "fbdc60ea-ba67-4696-d95d-456afa2893b9"
      },
      "execution_count": 30,
      "outputs": [
        {
          "output_type": "execute_result",
          "data": {
            "text/plain": [
              "({'fit_time': array([1.41569376, 1.38296676, 1.36877418, 1.3718493 , 1.36689115]),\n",
              "  'score_time': array([0.00401354, 0.00406647, 0.00393271, 0.00411248, 0.00436592]),\n",
              "  'test_score': array([0.81564246, 0.81460674, 0.81460674, 0.78089888, 0.85393258])},\n",
              " 0.8159374803841567)"
            ]
          },
          "metadata": {},
          "execution_count": 30
        }
      ]
    },
    {
      "cell_type": "code",
      "source": [
        "modelo.fit(X,y)\n",
        "modelo.best_estimator_"
      ],
      "metadata": {
        "colab": {
          "base_uri": "https://localhost:8080/",
          "height": 314
        },
        "id": "7hPmKlt8M36B",
        "outputId": "5b28fd7c-639b-4d8c-fdb9-6f33b2805f10"
      },
      "execution_count": 31,
      "outputs": [
        {
          "output_type": "execute_result",
          "data": {
            "text/plain": [
              "Pipeline(steps=[('preproc',\n",
              "                 Pipeline(steps=[('atributos_desejados', AtributosDesejados()),\n",
              "                                 ('unecaracteristicas',\n",
              "                                  FeatureUnion(transformer_list=[('pipenum',\n",
              "                                                                  Pipeline(steps=[('atributos_numericos',\n",
              "                                                                                   AtributosNumericos()),\n",
              "                                                                                  ('imputer',\n",
              "                                                                                   SimpleImputer(strategy='most_frequent')),\n",
              "                                                                                  ('scaler',\n",
              "                                                                                   StandardScaler())])),\n",
              "                                                                 ('pipecat',\n",
              "                                                                  Pipeline(steps=[('atributos_categoricos',\n",
              "                                                                                   AtributosCategoricos()),\n",
              "                                                                                  ('imputer',\n",
              "                                                                                   SimpleImputer(strategy='most_frequent')),\n",
              "                                                                                  ('encoder',\n",
              "                                                                                   OneHotEncoder())]))]))])),\n",
              "                ('arvore', DecisionTreeClassifier(max_depth=5))])"
            ],
            "text/html": [
              "<style>#sk-container-id-1 {color: black;background-color: white;}#sk-container-id-1 pre{padding: 0;}#sk-container-id-1 div.sk-toggleable {background-color: white;}#sk-container-id-1 label.sk-toggleable__label {cursor: pointer;display: block;width: 100%;margin-bottom: 0;padding: 0.3em;box-sizing: border-box;text-align: center;}#sk-container-id-1 label.sk-toggleable__label-arrow:before {content: \"▸\";float: left;margin-right: 0.25em;color: #696969;}#sk-container-id-1 label.sk-toggleable__label-arrow:hover:before {color: black;}#sk-container-id-1 div.sk-estimator:hover label.sk-toggleable__label-arrow:before {color: black;}#sk-container-id-1 div.sk-toggleable__content {max-height: 0;max-width: 0;overflow: hidden;text-align: left;background-color: #f0f8ff;}#sk-container-id-1 div.sk-toggleable__content pre {margin: 0.2em;color: black;border-radius: 0.25em;background-color: #f0f8ff;}#sk-container-id-1 input.sk-toggleable__control:checked~div.sk-toggleable__content {max-height: 200px;max-width: 100%;overflow: auto;}#sk-container-id-1 input.sk-toggleable__control:checked~label.sk-toggleable__label-arrow:before {content: \"▾\";}#sk-container-id-1 div.sk-estimator input.sk-toggleable__control:checked~label.sk-toggleable__label {background-color: #d4ebff;}#sk-container-id-1 div.sk-label input.sk-toggleable__control:checked~label.sk-toggleable__label {background-color: #d4ebff;}#sk-container-id-1 input.sk-hidden--visually {border: 0;clip: rect(1px 1px 1px 1px);clip: rect(1px, 1px, 1px, 1px);height: 1px;margin: -1px;overflow: hidden;padding: 0;position: absolute;width: 1px;}#sk-container-id-1 div.sk-estimator {font-family: monospace;background-color: #f0f8ff;border: 1px dotted black;border-radius: 0.25em;box-sizing: border-box;margin-bottom: 0.5em;}#sk-container-id-1 div.sk-estimator:hover {background-color: #d4ebff;}#sk-container-id-1 div.sk-parallel-item::after {content: \"\";width: 100%;border-bottom: 1px solid gray;flex-grow: 1;}#sk-container-id-1 div.sk-label:hover label.sk-toggleable__label {background-color: #d4ebff;}#sk-container-id-1 div.sk-serial::before {content: \"\";position: absolute;border-left: 1px solid gray;box-sizing: border-box;top: 0;bottom: 0;left: 50%;z-index: 0;}#sk-container-id-1 div.sk-serial {display: flex;flex-direction: column;align-items: center;background-color: white;padding-right: 0.2em;padding-left: 0.2em;position: relative;}#sk-container-id-1 div.sk-item {position: relative;z-index: 1;}#sk-container-id-1 div.sk-parallel {display: flex;align-items: stretch;justify-content: center;background-color: white;position: relative;}#sk-container-id-1 div.sk-item::before, #sk-container-id-1 div.sk-parallel-item::before {content: \"\";position: absolute;border-left: 1px solid gray;box-sizing: border-box;top: 0;bottom: 0;left: 50%;z-index: -1;}#sk-container-id-1 div.sk-parallel-item {display: flex;flex-direction: column;z-index: 1;position: relative;background-color: white;}#sk-container-id-1 div.sk-parallel-item:first-child::after {align-self: flex-end;width: 50%;}#sk-container-id-1 div.sk-parallel-item:last-child::after {align-self: flex-start;width: 50%;}#sk-container-id-1 div.sk-parallel-item:only-child::after {width: 0;}#sk-container-id-1 div.sk-dashed-wrapped {border: 1px dashed gray;margin: 0 0.4em 0.5em 0.4em;box-sizing: border-box;padding-bottom: 0.4em;background-color: white;}#sk-container-id-1 div.sk-label label {font-family: monospace;font-weight: bold;display: inline-block;line-height: 1.2em;}#sk-container-id-1 div.sk-label-container {text-align: center;}#sk-container-id-1 div.sk-container {/* jupyter's `normalize.less` sets `[hidden] { display: none; }` but bootstrap.min.css set `[hidden] { display: none !important; }` so we also need the `!important` here to be able to override the default hidden behavior on the sphinx rendered scikit-learn.org. See: https://github.com/scikit-learn/scikit-learn/issues/21755 */display: inline-block !important;position: relative;}#sk-container-id-1 div.sk-text-repr-fallback {display: none;}</style><div id=\"sk-container-id-1\" class=\"sk-top-container\"><div class=\"sk-text-repr-fallback\"><pre>Pipeline(steps=[(&#x27;preproc&#x27;,\n",
              "                 Pipeline(steps=[(&#x27;atributos_desejados&#x27;, AtributosDesejados()),\n",
              "                                 (&#x27;unecaracteristicas&#x27;,\n",
              "                                  FeatureUnion(transformer_list=[(&#x27;pipenum&#x27;,\n",
              "                                                                  Pipeline(steps=[(&#x27;atributos_numericos&#x27;,\n",
              "                                                                                   AtributosNumericos()),\n",
              "                                                                                  (&#x27;imputer&#x27;,\n",
              "                                                                                   SimpleImputer(strategy=&#x27;most_frequent&#x27;)),\n",
              "                                                                                  (&#x27;scaler&#x27;,\n",
              "                                                                                   StandardScaler())])),\n",
              "                                                                 (&#x27;pipecat&#x27;,\n",
              "                                                                  Pipeline(steps=[(&#x27;atributos_categoricos&#x27;,\n",
              "                                                                                   AtributosCategoricos()),\n",
              "                                                                                  (&#x27;imputer&#x27;,\n",
              "                                                                                   SimpleImputer(strategy=&#x27;most_frequent&#x27;)),\n",
              "                                                                                  (&#x27;encoder&#x27;,\n",
              "                                                                                   OneHotEncoder())]))]))])),\n",
              "                (&#x27;arvore&#x27;, DecisionTreeClassifier(max_depth=5))])</pre><b>In a Jupyter environment, please rerun this cell to show the HTML representation or trust the notebook. <br />On GitHub, the HTML representation is unable to render, please try loading this page with nbviewer.org.</b></div><div class=\"sk-container\" hidden><div class=\"sk-item sk-dashed-wrapped\"><div class=\"sk-label-container\"><div class=\"sk-label sk-toggleable\"><input class=\"sk-toggleable__control sk-hidden--visually\" id=\"sk-estimator-id-1\" type=\"checkbox\" ><label for=\"sk-estimator-id-1\" class=\"sk-toggleable__label sk-toggleable__label-arrow\">Pipeline</label><div class=\"sk-toggleable__content\"><pre>Pipeline(steps=[(&#x27;preproc&#x27;,\n",
              "                 Pipeline(steps=[(&#x27;atributos_desejados&#x27;, AtributosDesejados()),\n",
              "                                 (&#x27;unecaracteristicas&#x27;,\n",
              "                                  FeatureUnion(transformer_list=[(&#x27;pipenum&#x27;,\n",
              "                                                                  Pipeline(steps=[(&#x27;atributos_numericos&#x27;,\n",
              "                                                                                   AtributosNumericos()),\n",
              "                                                                                  (&#x27;imputer&#x27;,\n",
              "                                                                                   SimpleImputer(strategy=&#x27;most_frequent&#x27;)),\n",
              "                                                                                  (&#x27;scaler&#x27;,\n",
              "                                                                                   StandardScaler())])),\n",
              "                                                                 (&#x27;pipecat&#x27;,\n",
              "                                                                  Pipeline(steps=[(&#x27;atributos_categoricos&#x27;,\n",
              "                                                                                   AtributosCategoricos()),\n",
              "                                                                                  (&#x27;imputer&#x27;,\n",
              "                                                                                   SimpleImputer(strategy=&#x27;most_frequent&#x27;)),\n",
              "                                                                                  (&#x27;encoder&#x27;,\n",
              "                                                                                   OneHotEncoder())]))]))])),\n",
              "                (&#x27;arvore&#x27;, DecisionTreeClassifier(max_depth=5))])</pre></div></div></div><div class=\"sk-serial\"><div class=\"sk-item\"><div class=\"sk-label-container\"><div class=\"sk-label sk-toggleable\"><input class=\"sk-toggleable__control sk-hidden--visually\" id=\"sk-estimator-id-2\" type=\"checkbox\" ><label for=\"sk-estimator-id-2\" class=\"sk-toggleable__label sk-toggleable__label-arrow\">preproc: Pipeline</label><div class=\"sk-toggleable__content\"><pre>Pipeline(steps=[(&#x27;atributos_desejados&#x27;, AtributosDesejados()),\n",
              "                (&#x27;unecaracteristicas&#x27;,\n",
              "                 FeatureUnion(transformer_list=[(&#x27;pipenum&#x27;,\n",
              "                                                 Pipeline(steps=[(&#x27;atributos_numericos&#x27;,\n",
              "                                                                  AtributosNumericos()),\n",
              "                                                                 (&#x27;imputer&#x27;,\n",
              "                                                                  SimpleImputer(strategy=&#x27;most_frequent&#x27;)),\n",
              "                                                                 (&#x27;scaler&#x27;,\n",
              "                                                                  StandardScaler())])),\n",
              "                                                (&#x27;pipecat&#x27;,\n",
              "                                                 Pipeline(steps=[(&#x27;atributos_categoricos&#x27;,\n",
              "                                                                  AtributosCategoricos()),\n",
              "                                                                 (&#x27;imputer&#x27;,\n",
              "                                                                  SimpleImputer(strategy=&#x27;most_frequent&#x27;)),\n",
              "                                                                 (&#x27;encoder&#x27;,\n",
              "                                                                  OneHotEncoder())]))]))])</pre></div></div></div><div class=\"sk-serial\"><div class=\"sk-item\"><div class=\"sk-estimator sk-toggleable\"><input class=\"sk-toggleable__control sk-hidden--visually\" id=\"sk-estimator-id-3\" type=\"checkbox\" ><label for=\"sk-estimator-id-3\" class=\"sk-toggleable__label sk-toggleable__label-arrow\">AtributosDesejados</label><div class=\"sk-toggleable__content\"><pre>AtributosDesejados()</pre></div></div></div><div class=\"sk-item sk-dashed-wrapped\"><div class=\"sk-label-container\"><div class=\"sk-label sk-toggleable\"><input class=\"sk-toggleable__control sk-hidden--visually\" id=\"sk-estimator-id-4\" type=\"checkbox\" ><label for=\"sk-estimator-id-4\" class=\"sk-toggleable__label sk-toggleable__label-arrow\">unecaracteristicas: FeatureUnion</label><div class=\"sk-toggleable__content\"><pre>FeatureUnion(transformer_list=[(&#x27;pipenum&#x27;,\n",
              "                                Pipeline(steps=[(&#x27;atributos_numericos&#x27;,\n",
              "                                                 AtributosNumericos()),\n",
              "                                                (&#x27;imputer&#x27;,\n",
              "                                                 SimpleImputer(strategy=&#x27;most_frequent&#x27;)),\n",
              "                                                (&#x27;scaler&#x27;, StandardScaler())])),\n",
              "                               (&#x27;pipecat&#x27;,\n",
              "                                Pipeline(steps=[(&#x27;atributos_categoricos&#x27;,\n",
              "                                                 AtributosCategoricos()),\n",
              "                                                (&#x27;imputer&#x27;,\n",
              "                                                 SimpleImputer(strategy=&#x27;most_frequent&#x27;)),\n",
              "                                                (&#x27;encoder&#x27;,\n",
              "                                                 OneHotEncoder())]))])</pre></div></div></div><div class=\"sk-parallel\"><div class=\"sk-parallel-item\"><div class=\"sk-item\"><div class=\"sk-label-container\"><div class=\"sk-label sk-toggleable\"><label>pipenum</label></div></div><div class=\"sk-serial\"><div class=\"sk-item\"><div class=\"sk-serial\"><div class=\"sk-item\"><div class=\"sk-estimator sk-toggleable\"><input class=\"sk-toggleable__control sk-hidden--visually\" id=\"sk-estimator-id-5\" type=\"checkbox\" ><label for=\"sk-estimator-id-5\" class=\"sk-toggleable__label sk-toggleable__label-arrow\">AtributosNumericos</label><div class=\"sk-toggleable__content\"><pre>AtributosNumericos()</pre></div></div></div><div class=\"sk-item\"><div class=\"sk-estimator sk-toggleable\"><input class=\"sk-toggleable__control sk-hidden--visually\" id=\"sk-estimator-id-6\" type=\"checkbox\" ><label for=\"sk-estimator-id-6\" class=\"sk-toggleable__label sk-toggleable__label-arrow\">SimpleImputer</label><div class=\"sk-toggleable__content\"><pre>SimpleImputer(strategy=&#x27;most_frequent&#x27;)</pre></div></div></div><div class=\"sk-item\"><div class=\"sk-estimator sk-toggleable\"><input class=\"sk-toggleable__control sk-hidden--visually\" id=\"sk-estimator-id-7\" type=\"checkbox\" ><label for=\"sk-estimator-id-7\" class=\"sk-toggleable__label sk-toggleable__label-arrow\">StandardScaler</label><div class=\"sk-toggleable__content\"><pre>StandardScaler()</pre></div></div></div></div></div></div></div></div><div class=\"sk-parallel-item\"><div class=\"sk-item\"><div class=\"sk-label-container\"><div class=\"sk-label sk-toggleable\"><label>pipecat</label></div></div><div class=\"sk-serial\"><div class=\"sk-item\"><div class=\"sk-serial\"><div class=\"sk-item\"><div class=\"sk-estimator sk-toggleable\"><input class=\"sk-toggleable__control sk-hidden--visually\" id=\"sk-estimator-id-8\" type=\"checkbox\" ><label for=\"sk-estimator-id-8\" class=\"sk-toggleable__label sk-toggleable__label-arrow\">AtributosCategoricos</label><div class=\"sk-toggleable__content\"><pre>AtributosCategoricos()</pre></div></div></div><div class=\"sk-item\"><div class=\"sk-estimator sk-toggleable\"><input class=\"sk-toggleable__control sk-hidden--visually\" id=\"sk-estimator-id-9\" type=\"checkbox\" ><label for=\"sk-estimator-id-9\" class=\"sk-toggleable__label sk-toggleable__label-arrow\">SimpleImputer</label><div class=\"sk-toggleable__content\"><pre>SimpleImputer(strategy=&#x27;most_frequent&#x27;)</pre></div></div></div><div class=\"sk-item\"><div class=\"sk-estimator sk-toggleable\"><input class=\"sk-toggleable__control sk-hidden--visually\" id=\"sk-estimator-id-10\" type=\"checkbox\" ><label for=\"sk-estimator-id-10\" class=\"sk-toggleable__label sk-toggleable__label-arrow\">OneHotEncoder</label><div class=\"sk-toggleable__content\"><pre>OneHotEncoder()</pre></div></div></div></div></div></div></div></div></div></div></div></div><div class=\"sk-item\"><div class=\"sk-estimator sk-toggleable\"><input class=\"sk-toggleable__control sk-hidden--visually\" id=\"sk-estimator-id-11\" type=\"checkbox\" ><label for=\"sk-estimator-id-11\" class=\"sk-toggleable__label sk-toggleable__label-arrow\">DecisionTreeClassifier</label><div class=\"sk-toggleable__content\"><pre>DecisionTreeClassifier(max_depth=5)</pre></div></div></div></div></div></div></div>"
            ]
          },
          "metadata": {},
          "execution_count": 31
        }
      ]
    },
    {
      "cell_type": "markdown",
      "source": [
        "Conseguimos ver toda a sequência do nosso modelo e o que ele escolheu.\n",
        "Ele escolheu o **max_depth = 5**.\n",
        "\n",
        "No SimpleImputer a estratégia que ele escolheu foi o '**most_frequent**'.\n"
      ],
      "metadata": {
        "id": "tyx83gHXNBGi"
      }
    },
    {
      "cell_type": "code",
      "source": [
        "# Utilizando o classificador RandomForestClassifier\n",
        "\n",
        "from sklearn.ensemble  import RandomForestClassifier\n",
        "from sklearn.metrics import accuracy_score\n",
        "\n",
        "pipetotal = Pipeline([\n",
        "        ('preproc', preproc),\n",
        "        ('randomforest', RandomForestClassifier())\n",
        "])\n",
        "\n",
        "pipetotal.fit(X,y)\n",
        "ypred = pipetotal.predict(X)\n",
        "accuracy = accuracy_score(y, ypred)\n",
        "\n",
        "print(f\"Acurácia do modelo: {accuracy:.2f}\")"
      ],
      "metadata": {
        "colab": {
          "base_uri": "https://localhost:8080/"
        },
        "id": "CTU4peLiUDzX",
        "outputId": "7b023606-68e5-47f2-80e4-9c8d521d013d"
      },
      "execution_count": 32,
      "outputs": [
        {
          "output_type": "stream",
          "name": "stdout",
          "text": [
            "Acurácia do modelo: 0.98\n"
          ]
        }
      ]
    },
    {
      "cell_type": "markdown",
      "source": [
        "# **Utilizando Ensembles**"
      ],
      "metadata": {
        "id": "AG_op4okvToq"
      }
    },
    {
      "cell_type": "code",
      "source": [
        "from sklearn.model_selection import train_test_split\n",
        "\n",
        "Xtr, Xte, ytr, yte = train_test_split(Xtratado.toarray(), y, test_size=0.2, random_state=42)"
      ],
      "metadata": {
        "id": "qvA_z8xc0Iqb"
      },
      "execution_count": 35,
      "outputs": []
    },
    {
      "cell_type": "code",
      "source": [
        "# Vendo a predição, onde os classificadores divergem\n",
        "\n",
        "from sklearn.linear_model import Perceptron\n",
        "from sklearn.naive_bayes import GaussianNB\n",
        "from sklearn.neighbors import KNeighborsClassifier\n",
        "\n",
        "modelo = KNeighborsClassifier()\n",
        "modelo.fit(Xtr, ytr)\n",
        "knn_pred = modelo.predict(Xte)\n",
        "\n",
        "modelo = GaussianNB()\n",
        "modelo.fit(Xtr, ytr)\n",
        "gnb_pred = modelo.predict(Xte)\n",
        "\n",
        "\n",
        "modelo = Perceptron()\n",
        "modelo.fit(Xtr, ytr)\n",
        "per_pred = modelo.predict(Xte)\n",
        "\n",
        "ypred = np.stack((knn_pred, gnb_pred, per_pred))\n",
        "ypred.T"
      ],
      "metadata": {
        "colab": {
          "base_uri": "https://localhost:8080/"
        },
        "id": "wvkvPZhwDZ2S",
        "outputId": "7f3d7e9c-9a50-4740-d551-ebba12902f2e"
      },
      "execution_count": 36,
      "outputs": [
        {
          "output_type": "execute_result",
          "data": {
            "text/plain": [
              "array([[0, 0, 0],\n",
              "       [0, 0, 1],\n",
              "       [0, 0, 0],\n",
              "       [1, 1, 1],\n",
              "       [0, 1, 1],\n",
              "       [1, 1, 1],\n",
              "       [1, 1, 1],\n",
              "       [0, 0, 0],\n",
              "       [1, 1, 1],\n",
              "       [1, 1, 1],\n",
              "       [0, 0, 1],\n",
              "       [0, 0, 0],\n",
              "       [0, 0, 0],\n",
              "       [0, 0, 0],\n",
              "       [0, 0, 1],\n",
              "       [1, 1, 1],\n",
              "       [0, 0, 1],\n",
              "       [1, 1, 1],\n",
              "       [0, 0, 1],\n",
              "       [0, 0, 1],\n",
              "       [0, 0, 0],\n",
              "       [0, 0, 1],\n",
              "       [0, 1, 1],\n",
              "       [0, 0, 0],\n",
              "       [0, 0, 0],\n",
              "       [0, 0, 0],\n",
              "       [0, 1, 1],\n",
              "       [0, 0, 1],\n",
              "       [0, 0, 0],\n",
              "       [0, 1, 1],\n",
              "       [0, 0, 0],\n",
              "       [1, 1, 1],\n",
              "       [0, 1, 1],\n",
              "       [0, 1, 1],\n",
              "       [0, 0, 0],\n",
              "       [0, 0, 0],\n",
              "       [1, 0, 1],\n",
              "       [1, 1, 1],\n",
              "       [1, 1, 1],\n",
              "       [0, 0, 0],\n",
              "       [0, 0, 0],\n",
              "       [0, 0, 0],\n",
              "       [0, 0, 0],\n",
              "       [0, 0, 0],\n",
              "       [1, 1, 1],\n",
              "       [0, 0, 0],\n",
              "       [0, 0, 0],\n",
              "       [0, 0, 0],\n",
              "       [0, 0, 0],\n",
              "       [0, 1, 1],\n",
              "       [0, 1, 1],\n",
              "       [1, 1, 1],\n",
              "       [0, 0, 0],\n",
              "       [1, 1, 1],\n",
              "       [0, 0, 0],\n",
              "       [1, 1, 1],\n",
              "       [0, 0, 1],\n",
              "       [1, 1, 1],\n",
              "       [1, 1, 1],\n",
              "       [1, 1, 1],\n",
              "       [0, 0, 0],\n",
              "       [1, 1, 1],\n",
              "       [1, 1, 1],\n",
              "       [1, 0, 1],\n",
              "       [0, 0, 0],\n",
              "       [1, 1, 1],\n",
              "       [0, 0, 1],\n",
              "       [0, 0, 0],\n",
              "       [0, 0, 0],\n",
              "       [1, 1, 1],\n",
              "       [1, 1, 1],\n",
              "       [1, 1, 1],\n",
              "       [0, 1, 1],\n",
              "       [1, 1, 1],\n",
              "       [0, 0, 0],\n",
              "       [0, 0, 0],\n",
              "       [1, 1, 1],\n",
              "       [1, 1, 1],\n",
              "       [1, 1, 1],\n",
              "       [1, 1, 1],\n",
              "       [0, 0, 0],\n",
              "       [1, 1, 1],\n",
              "       [1, 1, 1],\n",
              "       [0, 0, 0],\n",
              "       [0, 1, 1],\n",
              "       [0, 1, 1],\n",
              "       [1, 1, 1],\n",
              "       [1, 1, 1],\n",
              "       [0, 0, 1],\n",
              "       [0, 0, 0],\n",
              "       [1, 0, 0],\n",
              "       [0, 0, 0],\n",
              "       [0, 0, 1],\n",
              "       [0, 0, 0],\n",
              "       [0, 0, 0],\n",
              "       [0, 0, 0],\n",
              "       [0, 0, 1],\n",
              "       [0, 0, 0],\n",
              "       [1, 1, 1],\n",
              "       [1, 0, 0],\n",
              "       [0, 0, 1],\n",
              "       [0, 0, 0],\n",
              "       [1, 1, 1],\n",
              "       [0, 0, 0],\n",
              "       [0, 0, 0],\n",
              "       [0, 0, 0],\n",
              "       [1, 1, 1],\n",
              "       [0, 0, 1],\n",
              "       [0, 0, 0],\n",
              "       [0, 1, 1],\n",
              "       [1, 1, 1],\n",
              "       [0, 0, 0],\n",
              "       [1, 1, 1],\n",
              "       [0, 0, 1],\n",
              "       [0, 1, 1],\n",
              "       [0, 0, 0],\n",
              "       [0, 1, 1],\n",
              "       [0, 0, 0],\n",
              "       [1, 1, 1],\n",
              "       [1, 1, 1],\n",
              "       [0, 0, 0],\n",
              "       [1, 1, 1],\n",
              "       [1, 1, 1],\n",
              "       [1, 0, 1],\n",
              "       [0, 0, 0],\n",
              "       [0, 1, 1],\n",
              "       [1, 1, 1],\n",
              "       [1, 1, 1],\n",
              "       [1, 1, 1],\n",
              "       [0, 0, 0],\n",
              "       [1, 1, 1],\n",
              "       [0, 0, 0],\n",
              "       [0, 0, 1],\n",
              "       [0, 1, 1],\n",
              "       [1, 1, 1],\n",
              "       [0, 1, 1],\n",
              "       [1, 1, 1],\n",
              "       [0, 0, 0],\n",
              "       [0, 0, 0],\n",
              "       [0, 1, 1],\n",
              "       [0, 0, 0],\n",
              "       [1, 1, 1],\n",
              "       [0, 0, 1],\n",
              "       [0, 0, 0],\n",
              "       [0, 1, 0],\n",
              "       [1, 1, 1],\n",
              "       [0, 0, 1],\n",
              "       [0, 0, 1],\n",
              "       [1, 1, 1],\n",
              "       [0, 0, 0],\n",
              "       [0, 0, 0],\n",
              "       [0, 0, 0],\n",
              "       [0, 0, 0],\n",
              "       [1, 1, 1],\n",
              "       [0, 0, 0],\n",
              "       [0, 0, 0],\n",
              "       [1, 0, 0],\n",
              "       [1, 1, 1],\n",
              "       [1, 1, 1],\n",
              "       [1, 1, 1],\n",
              "       [0, 0, 0],\n",
              "       [1, 0, 1],\n",
              "       [0, 0, 1],\n",
              "       [1, 1, 1],\n",
              "       [0, 0, 0],\n",
              "       [1, 1, 1],\n",
              "       [0, 0, 1],\n",
              "       [1, 1, 1],\n",
              "       [0, 0, 0],\n",
              "       [0, 0, 0],\n",
              "       [0, 1, 1],\n",
              "       [1, 1, 1],\n",
              "       [0, 0, 1],\n",
              "       [1, 1, 1],\n",
              "       [0, 0, 0],\n",
              "       [0, 0, 0],\n",
              "       [0, 1, 1],\n",
              "       [1, 1, 1],\n",
              "       [1, 1, 1]])"
            ]
          },
          "metadata": {},
          "execution_count": 36
        }
      ]
    },
    {
      "cell_type": "code",
      "source": [
        "# Classificador Perceptron\n",
        "\n",
        "from sklearn.linear_model import Perceptron\n",
        "modelo = Perceptron()\n",
        "modelo.fit(Xtr, ytr)\n",
        "per_pred = modelo.predict(Xte)\n",
        "per_hits = per_pred == yte\n",
        "sum(per_hits)/len(per_hits)"
      ],
      "metadata": {
        "colab": {
          "base_uri": "https://localhost:8080/"
        },
        "id": "yo82DqerBT5G",
        "outputId": "603a2920-3863-4be4-96e1-055fcd78964d"
      },
      "execution_count": 37,
      "outputs": [
        {
          "output_type": "execute_result",
          "data": {
            "text/plain": [
              "0.7318435754189944"
            ]
          },
          "metadata": {},
          "execution_count": 37
        }
      ]
    },
    {
      "cell_type": "code",
      "source": [
        "# Combinando os classificadores Perceptron, GaussianNB e KNN utilizando o VotingClassifier\n",
        "\n",
        "from sklearn.linear_model import Perceptron\n",
        "from sklearn.naive_bayes import GaussianNB\n",
        "from sklearn.neighbors import KNeighborsClassifier\n",
        "from sklearn.ensemble import VotingClassifier\n",
        "\n",
        "modelo = VotingClassifier([\n",
        "    ('knn', KNeighborsClassifier()),\n",
        "    ('gnb', GaussianNB()),\n",
        "    ('per', Perceptron())\n",
        "])\n",
        "modelo.fit(Xtr, ytr)\n",
        "vote_pred = modelo.predict(Xte)\n",
        "vote_hits = vote_pred == yte\n",
        "vote_hits, sum(vote_hits)/len(vote_hits)"
      ],
      "metadata": {
        "colab": {
          "base_uri": "https://localhost:8080/"
        },
        "id": "XbrpzGM8veP0",
        "outputId": "540b5161-f798-474a-f41c-a57153c58306"
      },
      "execution_count": 38,
      "outputs": [
        {
          "output_type": "execute_result",
          "data": {
            "text/plain": [
              "(709    False\n",
              " 439     True\n",
              " 840     True\n",
              " 720     True\n",
              " 39      True\n",
              "        ...  \n",
              " 433     True\n",
              " 773     True\n",
              " 25      True\n",
              " 84      True\n",
              " 10      True\n",
              " Name: Survived, Length: 179, dtype: bool,\n",
              " 0.7932960893854749)"
            ]
          },
          "metadata": {},
          "execution_count": 38
        }
      ]
    },
    {
      "cell_type": "code",
      "source": [
        "# Classificador DecisionTreeClassifier\n",
        "\n",
        "from sklearn.tree import DecisionTreeClassifier\n",
        "modelo = DecisionTreeClassifier()\n",
        "modelo.fit(Xtr, ytr)\n",
        "dtc_pred = modelo.predict(Xte)\n",
        "dtc_hits = dtc_pred == yte\n",
        "sum(dtc_hits)/len(dtc_hits)"
      ],
      "metadata": {
        "colab": {
          "base_uri": "https://localhost:8080/"
        },
        "id": "pa0iOFcU_0tH",
        "outputId": "e91ca163-b28d-4bb1-f3e5-7b94e75a9bbb"
      },
      "execution_count": 39,
      "outputs": [
        {
          "output_type": "execute_result",
          "data": {
            "text/plain": [
              "0.776536312849162"
            ]
          },
          "metadata": {},
          "execution_count": 39
        }
      ]
    },
    {
      "cell_type": "markdown",
      "source": [
        "A acurácia do classificador Perceptron é de **73%**.\n",
        "\n",
        "A Árvore de Decisão possui uma acurácia de **77%**, desempenho melhor do que a do Perceptron, o que vai melhorar o Ensemble."
      ],
      "metadata": {
        "id": "0tbDuaFvBVme"
      }
    },
    {
      "cell_type": "code",
      "source": [
        "from sklearn.ensemble import VotingClassifier\n",
        "modelo = VotingClassifier([\n",
        "    ('knn', KNeighborsClassifier()),\n",
        "    ('gnb', GaussianNB()),\n",
        "    ('dtc', DecisionTreeClassifier())\n",
        "])\n",
        "modelo.fit(Xtr, ytr)\n",
        "vote_pred = modelo.predict(Xte)\n",
        "vote_hits = vote_pred == yte\n",
        "vote_hits, sum(vote_hits)/len(vote_hits)"
      ],
      "metadata": {
        "colab": {
          "base_uri": "https://localhost:8080/"
        },
        "id": "VuH_3qZPAMSJ",
        "outputId": "954a52d0-d3d7-4f0d-f7c0-b7f1a7905117"
      },
      "execution_count": 40,
      "outputs": [
        {
          "output_type": "execute_result",
          "data": {
            "text/plain": [
              "(709    False\n",
              " 439     True\n",
              " 840     True\n",
              " 720     True\n",
              " 39      True\n",
              "        ...  \n",
              " 433     True\n",
              " 773     True\n",
              " 25     False\n",
              " 84      True\n",
              " 10      True\n",
              " Name: Survived, Length: 179, dtype: bool,\n",
              " 0.8156424581005587)"
            ]
          },
          "metadata": {},
          "execution_count": 40
        }
      ]
    },
    {
      "cell_type": "markdown",
      "source": [
        "A acurácia da combinação de classificadores melhorou com a substituição do classificador **Perceptron** pelo **DecisionTreeClassifier**."
      ],
      "metadata": {
        "id": "YUeaE17_AjeR"
      }
    },
    {
      "cell_type": "code",
      "source": [
        "# Utilizando o ExtraTreesClassifier\n",
        "\n",
        "from sklearn.ensemble import ExtraTreesClassifier\n",
        "modelo = ExtraTreesClassifier(random_state=42)\n",
        "modelo.fit(Xtr, ytr)\n",
        "etc_pred = modelo.predict(Xte)\n",
        "etc_hits = etc_pred == yte\n",
        "sum(etc_hits)/len(etc_hits)\n"
      ],
      "metadata": {
        "colab": {
          "base_uri": "https://localhost:8080/"
        },
        "id": "AyjW-B5C7CLD",
        "outputId": "e9434958-2c24-4c56-d0ca-fa04541fdb8d"
      },
      "execution_count": 41,
      "outputs": [
        {
          "output_type": "execute_result",
          "data": {
            "text/plain": [
              "0.8044692737430168"
            ]
          },
          "metadata": {},
          "execution_count": 41
        }
      ]
    },
    {
      "cell_type": "code",
      "source": [
        "scores = cross_validate(ExtraTreesClassifier(random_state=42), Xtratado.toarray(), y)\n",
        "np.mean(scores['test_score']), scores"
      ],
      "metadata": {
        "colab": {
          "base_uri": "https://localhost:8080/"
        },
        "id": "HR3lFRhFCeb8",
        "outputId": "7e77691c-6066-4eaa-b44d-5d46a9ddb83c"
      },
      "execution_count": 42,
      "outputs": [
        {
          "output_type": "execute_result",
          "data": {
            "text/plain": [
              "(0.7935157868307074,\n",
              " {'fit_time': array([0.10304666, 0.09900331, 0.10201716, 0.09775186, 0.09950876]),\n",
              "  'score_time': array([0.0070653 , 0.00739479, 0.00734663, 0.01011777, 0.00752354]),\n",
              "  'test_score': array([0.77094972, 0.7752809 , 0.83707865, 0.78089888, 0.80337079])})"
            ]
          },
          "metadata": {},
          "execution_count": 42
        }
      ]
    },
    {
      "cell_type": "code",
      "source": [
        "# Utilizando a técnica do bootstrap\n",
        "\n",
        "from sklearn.ensemble import BaggingClassifier\n",
        "modelo = BaggingClassifier(DecisionTreeClassifier(splitter='random'),\n",
        "                           n_estimators=100, max_features=0.15, random_state=42)\n",
        "modelo.fit(Xtr, ytr)\n",
        "bag_pred = modelo.predict(Xte)\n",
        "bag_hits = bag_pred == yte\n",
        "sum(bag_hits)/len(bag_hits)"
      ],
      "metadata": {
        "colab": {
          "base_uri": "https://localhost:8080/"
        },
        "id": "b87Es09W_cV1",
        "outputId": "edc4e981-1722-43d4-d251-fd2f52964071"
      },
      "execution_count": 43,
      "outputs": [
        {
          "output_type": "execute_result",
          "data": {
            "text/plain": [
              "0.7430167597765364"
            ]
          },
          "metadata": {},
          "execution_count": 43
        }
      ]
    },
    {
      "cell_type": "code",
      "source": [
        "# Utilizando um super classificador, um super Ensemble\n",
        "\n",
        "import warnings\n",
        "warnings.filterwarnings('ignore')\n",
        "\n",
        "from sklearn.ensemble import StackingClassifier\n",
        "\n",
        "voting = VotingClassifier([\n",
        "    ('knn', KNeighborsClassifier()),\n",
        "    ('gnb', GaussianNB()),\n",
        "    ('per', Perceptron())\n",
        "])\n",
        "\n",
        "modelo = StackingClassifier([\n",
        "    ('voting', voting),\n",
        "    ('extrat', ExtraTreesClassifier()),\n",
        "    ('ranfor', RandomForestClassifier())\n",
        "], cv=3, passthrough=True)\n",
        "\n",
        "modelo.fit(Xtr, ytr)\n",
        "stack_pred = modelo.predict(Xte)\n",
        "stack_hits = stack_pred == yte\n",
        "stack_hits, sum(stack_hits)/len(stack_hits)"
      ],
      "metadata": {
        "colab": {
          "base_uri": "https://localhost:8080/"
        },
        "id": "6HjPCvKxGzoy",
        "outputId": "fcbc1157-62ae-4a55-9259-9739637f0c4f"
      },
      "execution_count": 44,
      "outputs": [
        {
          "output_type": "execute_result",
          "data": {
            "text/plain": [
              "(709    False\n",
              " 439     True\n",
              " 840     True\n",
              " 720     True\n",
              " 39      True\n",
              "        ...  \n",
              " 433     True\n",
              " 773     True\n",
              " 25     False\n",
              " 84      True\n",
              " 10      True\n",
              " Name: Survived, Length: 179, dtype: bool,\n",
              " 0.8212290502793296)"
            ]
          },
          "metadata": {},
          "execution_count": 44
        }
      ]
    },
    {
      "cell_type": "markdown",
      "source": [
        "Com o super classificador a acurácia passou a ser de **82%**."
      ],
      "metadata": {
        "id": "N_MLEJ2WHARp"
      }
    },
    {
      "cell_type": "code",
      "source": [
        "# Utilizando o VotingClassifier e StackingClassifier no pipetotal\n",
        "\n",
        "from scipy.sparse import issparse\n",
        "from sklearn.preprocessing import FunctionTransformer\n",
        "\n",
        "# Corrigindo problema detectado de matriz esparsa, convertendo os casos  para um array numpy denso.\n",
        "def todense(X):\n",
        "    if issparse(X):\n",
        "        return X.toarray()\n",
        "    else:\n",
        "        return X\n",
        "\n",
        "voting = VotingClassifier([\n",
        "    ('knn', KNeighborsClassifier()),\n",
        "    ('gnb', GaussianNB()),\n",
        "    ('per', Perceptron())\n",
        "])\n",
        "\n",
        "stacking = StackingClassifier([\n",
        "    ('voting', voting),\n",
        "    ('extrat', ExtraTreesClassifier()),\n",
        "    ('ranfor', RandomForestClassifier())\n",
        "], cv=3, passthrough=True)\n",
        "\n",
        "pipetotal = Pipeline([\n",
        "        ('preproc', preproc),\n",
        "        ('todense', FunctionTransformer(todense, validate=False)),\n",
        "        ('stacking', stacking)\n",
        "])\n",
        "\n",
        "pipetotal.fit(X,y)\n",
        "ypred = pipetotal.predict(X)\n",
        "accuracy = accuracy_score(y, ypred)\n",
        "\n",
        "print(f\"Acurácia do modelo: {accuracy:.2f}\")"
      ],
      "metadata": {
        "colab": {
          "base_uri": "https://localhost:8080/"
        },
        "id": "8PDFNmybn6qN",
        "outputId": "4022100e-f079-4491-ce39-2be33b6729e8"
      },
      "execution_count": 47,
      "outputs": [
        {
          "output_type": "stream",
          "name": "stdout",
          "text": [
            "Acurácia do modelo: 0.90\n"
          ]
        }
      ]
    },
    {
      "cell_type": "code",
      "source": [
        "# Validação Cruzada\n",
        "\n",
        "scores = cross_validate(pipetotal, X, y)\n",
        "scores, np.mean(scores['test_score'])"
      ],
      "metadata": {
        "colab": {
          "base_uri": "https://localhost:8080/"
        },
        "id": "amyRw13jwMmY",
        "outputId": "3f0d8880-d10d-431b-de48-2920d62ba2b2"
      },
      "execution_count": 49,
      "outputs": [
        {
          "output_type": "execute_result",
          "data": {
            "text/plain": [
              "({'fit_time': array([1.35707808, 0.96555901, 0.97252345, 0.9677093 , 0.96511722]),\n",
              "  'score_time': array([0.03454399, 0.03677845, 0.0337286 , 0.04620886, 0.03462911]),\n",
              "  'test_score': array([0.79888268, 0.80337079, 0.83707865, 0.78651685, 0.83146067])},\n",
              " 0.8114619295712762)"
            ]
          },
          "metadata": {},
          "execution_count": 49
        }
      ]
    },
    {
      "cell_type": "markdown",
      "source": [
        "# **Conclusão:**\n",
        "\n",
        "O desempenho do modelo usando o **VotingClassifier** e **StackingClassifier** (**90%**) foi melhor do que o do **GridSearchCV** (**82%**), porém, foi inferior a acurácia do classificador **RandomForestClassifier** (**98%**) submetido anteriormente no kaggle.\n",
        "\n"
      ],
      "metadata": {
        "id": "_WPBEzDjIL7q"
      }
    }
  ]
}